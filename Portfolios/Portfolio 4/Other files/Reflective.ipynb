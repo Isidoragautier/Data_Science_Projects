{
 "cells": [
  {
   "cell_type": "markdown",
   "id": "9a738e45-31b6-440d-b8c9-dde45bfb818b",
   "metadata": {},
   "source": [
    "\r\n",
    "\r\n",
    "# Reflective Report\r\n",
    "\r\n",
    "## Process of Solving Problems and Learning to Use Jupyter Notebooks\r\n",
    "\r\n",
    "At the beginning of this unit, my experience with Jupyter Notebooks was limited. However, through multiple portfolios, I significantly improved my skills, especially in data exploration, model application, and performance evaluation. By Portfolio 4, I had developed a more structured approach, efficiently handling tasks such as feature selection, model tuning, and cross-validation. \r\n",
    "\r\n",
    "I faced challenges like managing different datasets, handling missing values, and selecting appropriate algorithms. Jupyter’s flexibility allowed me to iteratively refine my models and document the process. By the end, I was confidently using advanced techniques like Recursive Feature Elimination (RFE) and cross-validation to optimize models.\r\n",
    "\r\n",
    "## Progress and Future Interests\r\n",
    "\r\n",
    "Throughout the portfolios, I developed a better understanding of machine learning concepts. In Portfolio 1, I focused on basic tasks, while by Portfolio 4, I could handle more complex analyses, including distance metrics for a K-Nearest Neighbors (KNN) classifier and Logistic Regression. This progression reflects my growing ability to derive insights from data.\r\n",
    "\r\n",
    "In the future, I aim to apply these skills to real-world problems, particularly in healthcare or environmental sustainability, where predictive models can help with early intervention and decision-making.\r\n",
    "\r\n",
    "## Discussion Points Based on Portfolio 4\r\n",
    "\r\n",
    "### 1. **Why I Chose the Dataset**\r\n",
    "\r\n",
    "For Portfolio 4, I chose the **\"Estimation of Obesity Levels Based on Eating Habits and Physical Condition\"** dataset. Obesity is a global health concern, and the dataset offered diverse features like demographics, eating habits, and physical activity. These factors provided a rich foundation for exploring classification models to predict obesity risk.\r\n",
    "\r\n",
    "### 2. **Identifying the Problem**\r\n",
    "\r\n",
    "The problem I aimed to solve was predicting obesity based on lifestyle factors. Using machine learning, I sought to uncover patterns in the data that could indicate high-risk individuals, relevant to public health interventions.\r\n",
    "\r\n",
    "### 3. **Choosing Machine Learning Models**\r\n",
    "\r\n",
    "I applied two models: **K-Nearest Neighbors (KNN)** and **Logistic Regression**. KNN, with its focus on proximity, was ideal for this dataset, achieving 92% accuracy. Logistic Regression provided a probabilistic framework, helping identify key features, such as snack frequency and family history of obesity.\r\n",
    "\r\n",
    "### 4. **Insights and Conclusion**\r\n",
    "\r\n",
    "The models confirmed that factors like age, vegetable consumption, and physical activity significantly impact obesity risk. Additionally, small lifestyle habits, such as snack frequency and transportation methods, had an unexpected influence, emphasizing the importance of practical interventions.\r\n",
    "\r\n",
    "KNN outperformed Logistic Regression in terms of accuracy, but both models offered valuable insights into the relationships between lifestyle factors and obesity.\r\n",
    "\r\n",
    "### 5. **Decision Tree Analysis**\r\n",
    "\r\n",
    "I also explored **Decision Tree Analysis** in Portfolio 4. Decision trees helped visualize the most influential factors in predicting obesity, like snack frequency and vegetable consumption. However, decision trees tend to overfit, so I used **pruning techniques** to simplify the model and enhance generalization. This experience has motivated me to explore **ensemble methods** like **Random Forests**, which offer improved performance by combining decision trees.\r\n",
    "\r\n",
    "## Conclusion\r\n",
    "\r\n",
    "My journey through the portfolios has provided a solid foundation in data science and machine learning. I’ve learned how to preprocess data, apply different algorithms, and extract meaningful insights. Moving forward, I’m excited to apply these skills to real-world challenges, particularly in healthcare, where data-driven approaches can make ats. Let me know if you need further adjustments!ough pruning. Let me know if you need further adjustments!significant impact on improving outcomes.\r\n",
    " a tangible impact on improving outcomes.\r\n"
   ]
  },
  {
   "cell_type": "code",
   "execution_count": null,
   "id": "0b1c6d75-79b3-4ced-b240-bd9bbfaa4331",
   "metadata": {},
   "outputs": [],
   "source": []
  }
 ],
 "metadata": {
  "kernelspec": {
   "display_name": "Python 3 (ipykernel)",
   "language": "python",
   "name": "python3"
  },
  "language_info": {
   "codemirror_mode": {
    "name": "ipython",
    "version": 3
   },
   "file_extension": ".py",
   "mimetype": "text/x-python",
   "name": "python",
   "nbconvert_exporter": "python",
   "pygments_lexer": "ipython3",
   "version": "3.12.4"
  }
 },
 "nbformat": 4,
 "nbformat_minor": 5
}
