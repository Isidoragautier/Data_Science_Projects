{
 "cells": [
  {
   "cell_type": "markdown",
   "id": "skHfgkqlqndO",
   "metadata": {
    "id": "skHfgkqlqndO"
   },
   "source": [
    "## Analysis of a car sell record Dataset\n",
    "\n",
    "We have been provided with a car sell record dataset. In this dataset, we have thounds of car sell records.\n",
    "\n",
    "The structure of this dataset is represented in the header shown below.\n",
    "\n",
    "name\n",
    "year\n",
    "selling_price\n",
    "km_driven\n",
    "fuel\n",
    "seller_type\n",
    "transmission\n",
    "Owner\n",
    "\n",
    "| name | year | selling_price | km_driven| fuel | seller_type | transmission | Owner |\n",
    "\n",
    "    | ---- | ---- | ---- | ---- | ---- | ---- | ---- | ---- |   \n",
    "    \n",
    "#### Description of Fields\n",
    "\n",
    "* __name__ - detail car type of the sold car\n",
    "* __year__ - Year of the car when it was bought\n",
    "* __selling_price__ - Price at which the car is being sold\n",
    "* __km_driven__ - Number of Kilometres the car is driven\n",
    "* __fuel__ - Fuel type of car (petrol / diesel / CNG / LPG / electric)\n",
    "* __seller_type__ - Tells if a Seller is Individual or a Dealer\n",
    "* __transmission__ - Gear transmission of the car (Automatic/Manual)\n",
    "* __owner__ - Number of previous owners of the car.\n",
    "\n",
    "There are four questions to explore with the data as shown below.\n"
   ]
  },
  {
   "cell_type": "code",
   "execution_count": 1,
   "id": "zNTpU9ToS8QK",
   "metadata": {
    "executionInfo": {
     "elapsed": 374,
     "status": "ok",
     "timestamp": 1724106640667,
     "user": {
      "displayName": "Yuzhe Tian",
      "userId": "05567834028890049819"
     },
     "user_tz": -600
    },
    "id": "zNTpU9ToS8QK"
   },
   "outputs": [],
   "source": [
    "your_name = \"John xxx/Jane xxx\"\n",
    "your_student_id = \"XXXXXXXX\""
   ]
  },
  {
   "cell_type": "code",
   "execution_count": 2,
   "id": "giZ_rSg8ezK6",
   "metadata": {
    "executionInfo": {
     "elapsed": 1097,
     "status": "ok",
     "timestamp": 1724106642163,
     "user": {
      "displayName": "Yuzhe Tian",
      "userId": "05567834028890049819"
     },
     "user_tz": -600
    },
    "id": "giZ_rSg8ezK6"
   },
   "outputs": [],
   "source": [
    "# libraries you might need\n",
    "import pandas as pd\n",
    "import numpy as np\n",
    "import matplotlib.pyplot as plt\n",
    "%matplotlib inline\n",
    "\n",
    "# if you are using google colab with google drive, you could read files from google drive with the following codes\n",
    "# from google.colab import drive\n",
    "# drive.mount('/content/drive')"
   ]
  },
  {
   "cell_type": "markdown",
   "id": "-tb7B7VTqndQ",
   "metadata": {
    "id": "-tb7B7VTqndQ"
   },
   "source": [
    " ## Q1. Remove missing data\n",
    "\n",
    "Please remove the records that match ANY of the below two conditions in the csv file:\n",
    "\n",
    " * year is missing\n",
    " * fuel is 'none'\n",
    "\n",
    "__Display the DataFrame, counting number of Null values in each column, and print the length of the data__ before and after removing the missing data.  "
   ]
  },
  {
   "cell_type": "code",
   "execution_count": 3,
   "id": "3b2a56ca",
   "metadata": {
    "executionInfo": {
     "elapsed": 20,
     "status": "ok",
     "timestamp": 1724106642164,
     "user": {
      "displayName": "Yuzhe Tian",
      "userId": "05567834028890049819"
     },
     "user_tz": -600
    },
    "id": "3b2a56ca"
   },
   "outputs": [],
   "source": [
    "#read in the csv file\n",
    "original_df = pd.read_csv(\"car_sell.csv\")"
   ]
  },
  {
   "cell_type": "code",
   "execution_count": 4,
   "id": "151607d9",
   "metadata": {
    "colab": {
     "base_uri": "https://localhost:8080/",
     "height": 206
    },
    "executionInfo": {
     "elapsed": 19,
     "status": "ok",
     "timestamp": 1724106642164,
     "user": {
      "displayName": "Yuzhe Tian",
      "userId": "05567834028890049819"
     },
     "user_tz": -600
    },
    "id": "151607d9",
    "outputId": "e8b709b2-c2f7-45a3-bbaf-da5dd0e13e1f"
   },
   "outputs": [
    {
     "data": {
      "text/html": [
       "<div>\n",
       "<style scoped>\n",
       "    .dataframe tbody tr th:only-of-type {\n",
       "        vertical-align: middle;\n",
       "    }\n",
       "\n",
       "    .dataframe tbody tr th {\n",
       "        vertical-align: top;\n",
       "    }\n",
       "\n",
       "    .dataframe thead th {\n",
       "        text-align: right;\n",
       "    }\n",
       "</style>\n",
       "<table border=\"1\" class=\"dataframe\">\n",
       "  <thead>\n",
       "    <tr style=\"text-align: right;\">\n",
       "      <th></th>\n",
       "      <th>Unnamed: 0</th>\n",
       "      <th>name</th>\n",
       "      <th>year</th>\n",
       "      <th>selling_price</th>\n",
       "      <th>km_driven</th>\n",
       "      <th>fuel</th>\n",
       "      <th>seller_type</th>\n",
       "      <th>transmission</th>\n",
       "      <th>owner</th>\n",
       "    </tr>\n",
       "  </thead>\n",
       "  <tbody>\n",
       "    <tr>\n",
       "      <th>0</th>\n",
       "      <td>0</td>\n",
       "      <td>Maruti 800 AC</td>\n",
       "      <td>2007.0</td>\n",
       "      <td>60000</td>\n",
       "      <td>70000</td>\n",
       "      <td>Petrol</td>\n",
       "      <td>Individual</td>\n",
       "      <td>Manual</td>\n",
       "      <td>First Owner</td>\n",
       "    </tr>\n",
       "    <tr>\n",
       "      <th>1</th>\n",
       "      <td>1</td>\n",
       "      <td>Maruti Wagon R LXI Minor</td>\n",
       "      <td>2007.0</td>\n",
       "      <td>135000</td>\n",
       "      <td>50000</td>\n",
       "      <td>Petrol</td>\n",
       "      <td>Individual</td>\n",
       "      <td>Manual</td>\n",
       "      <td>First Owner</td>\n",
       "    </tr>\n",
       "    <tr>\n",
       "      <th>2</th>\n",
       "      <td>2</td>\n",
       "      <td>Hyundai Verna 1.6 SX</td>\n",
       "      <td>2012.0</td>\n",
       "      <td>600000</td>\n",
       "      <td>100000</td>\n",
       "      <td>Diesel</td>\n",
       "      <td>Individual</td>\n",
       "      <td>Manual</td>\n",
       "      <td>First Owner</td>\n",
       "    </tr>\n",
       "    <tr>\n",
       "      <th>3</th>\n",
       "      <td>3</td>\n",
       "      <td>Datsun RediGO T Option</td>\n",
       "      <td>2017.0</td>\n",
       "      <td>250000</td>\n",
       "      <td>46000</td>\n",
       "      <td>Petrol</td>\n",
       "      <td>Individual</td>\n",
       "      <td>Manual</td>\n",
       "      <td>First Owner</td>\n",
       "    </tr>\n",
       "    <tr>\n",
       "      <th>4</th>\n",
       "      <td>4</td>\n",
       "      <td>Honda Amaze VX i-DTEC</td>\n",
       "      <td>2014.0</td>\n",
       "      <td>450000</td>\n",
       "      <td>141000</td>\n",
       "      <td>Diesel</td>\n",
       "      <td>Individual</td>\n",
       "      <td>Manual</td>\n",
       "      <td>Second Owner</td>\n",
       "    </tr>\n",
       "  </tbody>\n",
       "</table>\n",
       "</div>"
      ],
      "text/plain": [
       "   Unnamed: 0                      name    year  selling_price  km_driven  \\\n",
       "0           0             Maruti 800 AC  2007.0          60000      70000   \n",
       "1           1  Maruti Wagon R LXI Minor  2007.0         135000      50000   \n",
       "2           2      Hyundai Verna 1.6 SX  2012.0         600000     100000   \n",
       "3           3    Datsun RediGO T Option  2017.0         250000      46000   \n",
       "4           4     Honda Amaze VX i-DTEC  2014.0         450000     141000   \n",
       "\n",
       "     fuel seller_type transmission         owner  \n",
       "0  Petrol  Individual       Manual   First Owner  \n",
       "1  Petrol  Individual       Manual   First Owner  \n",
       "2  Diesel  Individual       Manual   First Owner  \n",
       "3  Petrol  Individual       Manual   First Owner  \n",
       "4  Diesel  Individual       Manual  Second Owner  "
      ]
     },
     "execution_count": 4,
     "metadata": {},
     "output_type": "execute_result"
    }
   ],
   "source": [
    "original_df.head()"
   ]
  },
  {
   "cell_type": "code",
   "execution_count": 5,
   "id": "f35745a1",
   "metadata": {
    "colab": {
     "base_uri": "https://localhost:8080/",
     "height": 366
    },
    "executionInfo": {
     "elapsed": 17,
     "status": "ok",
     "timestamp": 1724106642164,
     "user": {
      "displayName": "Yuzhe Tian",
      "userId": "05567834028890049819"
     },
     "user_tz": -600
    },
    "id": "f35745a1",
    "outputId": "998b0b6f-6fff-48ab-beda-9e3d1490f450"
   },
   "outputs": [
    {
     "data": {
      "text/plain": [
       "Unnamed: 0         0\n",
       "name               0\n",
       "year             310\n",
       "selling_price      0\n",
       "km_driven          0\n",
       "fuel               0\n",
       "seller_type        0\n",
       "transmission       0\n",
       "owner              0\n",
       "dtype: int64"
      ]
     },
     "execution_count": 5,
     "metadata": {},
     "output_type": "execute_result"
    }
   ],
   "source": [
    "original_df.isnull().sum()"
   ]
  },
  {
   "cell_type": "code",
   "execution_count": 6,
   "id": "2c1d0368",
   "metadata": {
    "colab": {
     "base_uri": "https://localhost:8080/"
    },
    "executionInfo": {
     "elapsed": 16,
     "status": "ok",
     "timestamp": 1724106642164,
     "user": {
      "displayName": "Yuzhe Tian",
      "userId": "05567834028890049819"
     },
     "user_tz": -600
    },
    "id": "2c1d0368",
    "outputId": "0af630b9-e5f9-4f5c-fc39-f406cfcbf3db"
   },
   "outputs": [
    {
     "name": "stdout",
     "output_type": "stream",
     "text": [
      "<class 'pandas.core.frame.DataFrame'>\n",
      "RangeIndex: 4340 entries, 0 to 4339\n",
      "Data columns (total 9 columns):\n",
      " #   Column         Non-Null Count  Dtype  \n",
      "---  ------         --------------  -----  \n",
      " 0   Unnamed: 0     4340 non-null   int64  \n",
      " 1   name           4340 non-null   object \n",
      " 2   year           4030 non-null   float64\n",
      " 3   selling_price  4340 non-null   int64  \n",
      " 4   km_driven      4340 non-null   int64  \n",
      " 5   fuel           4340 non-null   object \n",
      " 6   seller_type    4340 non-null   object \n",
      " 7   transmission   4340 non-null   object \n",
      " 8   owner          4340 non-null   object \n",
      "dtypes: float64(1), int64(3), object(5)\n",
      "memory usage: 305.3+ KB\n"
     ]
    }
   ],
   "source": [
    "original_df.info()"
   ]
  },
  {
   "cell_type": "code",
   "execution_count": 7,
   "id": "ee9c704d",
   "metadata": {
    "colab": {
     "base_uri": "https://localhost:8080/"
    },
    "executionInfo": {
     "elapsed": 14,
     "status": "ok",
     "timestamp": 1724106642164,
     "user": {
      "displayName": "Yuzhe Tian",
      "userId": "05567834028890049819"
     },
     "user_tz": -600
    },
    "id": "ee9c704d",
    "outputId": "72e996e1-42a3-447d-c86d-91b3f7633eaf"
   },
   "outputs": [
    {
     "name": "stdout",
     "output_type": "stream",
     "text": [
      "the length before removing missing data is 4340\n"
     ]
    }
   ],
   "source": [
    "print('the length before removing missing data is', len(original_df))"
   ]
  },
  {
   "cell_type": "code",
   "execution_count": 8,
   "id": "735fe2ce",
   "metadata": {
    "colab": {
     "base_uri": "https://localhost:8080/"
    },
    "executionInfo": {
     "elapsed": 13,
     "status": "ok",
     "timestamp": 1724106642164,
     "user": {
      "displayName": "Yuzhe Tian",
      "userId": "05567834028890049819"
     },
     "user_tz": -600
    },
    "id": "735fe2ce",
    "outputId": "215b56fb-3be8-4304-8a5d-2520011e1775"
   },
   "outputs": [
    {
     "name": "stdout",
     "output_type": "stream",
     "text": [
      "the length after removing \"none\" fuel is 4181\n",
      "the length after removing \"N/A\" data is 3886\n"
     ]
    }
   ],
   "source": [
    "# remove 'none' in fuel\n",
    "remove_none_df = original_df.drop(original_df.index[(original_df['fuel'] == 'none')])\n",
    "print('the length after removing \"none\" fuel is',len(remove_none_df))\n",
    "\n",
    "# now remove na in year\n",
    "clean_df= remove_none_df.dropna()\n",
    "print('the length after removing \"N/A\" data is',len(clean_df))"
   ]
  },
  {
   "cell_type": "code",
   "execution_count": 9,
   "id": "DT7lvenKw_Ld",
   "metadata": {
    "colab": {
     "base_uri": "https://localhost:8080/",
     "height": 300
    },
    "executionInfo": {
     "elapsed": 391,
     "status": "ok",
     "timestamp": 1724106673463,
     "user": {
      "displayName": "Yuzhe Tian",
      "userId": "05567834028890049819"
     },
     "user_tz": -600
    },
    "id": "DT7lvenKw_Ld",
    "outputId": "64c1901e-427d-4ecb-f10b-0a1eced2d88c"
   },
   "outputs": [
    {
     "data": {
      "text/html": [
       "<div>\n",
       "<style scoped>\n",
       "    .dataframe tbody tr th:only-of-type {\n",
       "        vertical-align: middle;\n",
       "    }\n",
       "\n",
       "    .dataframe tbody tr th {\n",
       "        vertical-align: top;\n",
       "    }\n",
       "\n",
       "    .dataframe thead th {\n",
       "        text-align: right;\n",
       "    }\n",
       "</style>\n",
       "<table border=\"1\" class=\"dataframe\">\n",
       "  <thead>\n",
       "    <tr style=\"text-align: right;\">\n",
       "      <th></th>\n",
       "      <th>Unnamed: 0</th>\n",
       "      <th>year</th>\n",
       "      <th>selling_price</th>\n",
       "      <th>km_driven</th>\n",
       "    </tr>\n",
       "  </thead>\n",
       "  <tbody>\n",
       "    <tr>\n",
       "      <th>count</th>\n",
       "      <td>3886.000000</td>\n",
       "      <td>3886.000000</td>\n",
       "      <td>3.886000e+03</td>\n",
       "      <td>3886.000000</td>\n",
       "    </tr>\n",
       "    <tr>\n",
       "      <th>mean</th>\n",
       "      <td>2173.706639</td>\n",
       "      <td>2013.099331</td>\n",
       "      <td>4.978849e+05</td>\n",
       "      <td>66313.279207</td>\n",
       "    </tr>\n",
       "    <tr>\n",
       "      <th>std</th>\n",
       "      <td>1256.639527</td>\n",
       "      <td>4.198966</td>\n",
       "      <td>5.586698e+05</td>\n",
       "      <td>46679.603916</td>\n",
       "    </tr>\n",
       "    <tr>\n",
       "      <th>min</th>\n",
       "      <td>0.000000</td>\n",
       "      <td>1992.000000</td>\n",
       "      <td>2.000000e+04</td>\n",
       "      <td>1.000000</td>\n",
       "    </tr>\n",
       "    <tr>\n",
       "      <th>25%</th>\n",
       "      <td>1080.250000</td>\n",
       "      <td>2011.000000</td>\n",
       "      <td>2.062492e+05</td>\n",
       "      <td>35000.000000</td>\n",
       "    </tr>\n",
       "    <tr>\n",
       "      <th>50%</th>\n",
       "      <td>2174.500000</td>\n",
       "      <td>2014.000000</td>\n",
       "      <td>3.535000e+05</td>\n",
       "      <td>60000.000000</td>\n",
       "    </tr>\n",
       "    <tr>\n",
       "      <th>75%</th>\n",
       "      <td>3265.750000</td>\n",
       "      <td>2016.000000</td>\n",
       "      <td>6.000000e+05</td>\n",
       "      <td>90000.000000</td>\n",
       "    </tr>\n",
       "    <tr>\n",
       "      <th>max</th>\n",
       "      <td>4339.000000</td>\n",
       "      <td>2020.000000</td>\n",
       "      <td>8.900000e+06</td>\n",
       "      <td>806599.000000</td>\n",
       "    </tr>\n",
       "  </tbody>\n",
       "</table>\n",
       "</div>"
      ],
      "text/plain": [
       "        Unnamed: 0         year  selling_price      km_driven\n",
       "count  3886.000000  3886.000000   3.886000e+03    3886.000000\n",
       "mean   2173.706639  2013.099331   4.978849e+05   66313.279207\n",
       "std    1256.639527     4.198966   5.586698e+05   46679.603916\n",
       "min       0.000000  1992.000000   2.000000e+04       1.000000\n",
       "25%    1080.250000  2011.000000   2.062492e+05   35000.000000\n",
       "50%    2174.500000  2014.000000   3.535000e+05   60000.000000\n",
       "75%    3265.750000  2016.000000   6.000000e+05   90000.000000\n",
       "max    4339.000000  2020.000000   8.900000e+06  806599.000000"
      ]
     },
     "execution_count": 9,
     "metadata": {},
     "output_type": "execute_result"
    }
   ],
   "source": [
    "clean_df.describe()"
   ]
  },
  {
   "cell_type": "markdown",
   "id": "EJG9_LEmqndR",
   "metadata": {
    "id": "EJG9_LEmqndR"
   },
   "source": [
    "## Q2. Descriptive statistics\n",
    "\n",
    "With the cleaned data in Q1, please provide the data summarization as below:\n",
    "\n",
    "* Q2.1 total number of unique name, unique seller_type, unique transmission, and unique owner\n",
    "* Q2.2 descriptive statistics, including the total number, mean, std, min and max regarding all km_driven\n",
    "* Q2.3 descriptive statistics, including mean, std, max, and min of the number of selling_price grouped by different seller_type\n",
    "* Q2.4 descriptive statistics, including mean, std, max, min of the number of years that sold by each owner type\n"
   ]
  },
  {
   "cell_type": "code",
   "execution_count": 10,
   "id": "a989f4f1",
   "metadata": {
    "colab": {
     "base_uri": "https://localhost:8080/",
     "height": 206
    },
    "executionInfo": {
     "elapsed": 12,
     "status": "ok",
     "timestamp": 1724106642164,
     "user": {
      "displayName": "Yuzhe Tian",
      "userId": "05567834028890049819"
     },
     "user_tz": -600
    },
    "id": "a989f4f1",
    "outputId": "8703ca51-b197-4211-a863-9200ceda15fe"
   },
   "outputs": [
    {
     "data": {
      "text/html": [
       "<div>\n",
       "<style scoped>\n",
       "    .dataframe tbody tr th:only-of-type {\n",
       "        vertical-align: middle;\n",
       "    }\n",
       "\n",
       "    .dataframe tbody tr th {\n",
       "        vertical-align: top;\n",
       "    }\n",
       "\n",
       "    .dataframe thead th {\n",
       "        text-align: right;\n",
       "    }\n",
       "</style>\n",
       "<table border=\"1\" class=\"dataframe\">\n",
       "  <thead>\n",
       "    <tr style=\"text-align: right;\">\n",
       "      <th></th>\n",
       "      <th>Unnamed: 0</th>\n",
       "      <th>name</th>\n",
       "      <th>year</th>\n",
       "      <th>selling_price</th>\n",
       "      <th>km_driven</th>\n",
       "      <th>fuel</th>\n",
       "      <th>seller_type</th>\n",
       "      <th>transmission</th>\n",
       "      <th>owner</th>\n",
       "    </tr>\n",
       "  </thead>\n",
       "  <tbody>\n",
       "    <tr>\n",
       "      <th>0</th>\n",
       "      <td>0</td>\n",
       "      <td>Maruti 800 AC</td>\n",
       "      <td>2007.0</td>\n",
       "      <td>60000</td>\n",
       "      <td>70000</td>\n",
       "      <td>Petrol</td>\n",
       "      <td>Individual</td>\n",
       "      <td>Manual</td>\n",
       "      <td>First Owner</td>\n",
       "    </tr>\n",
       "    <tr>\n",
       "      <th>1</th>\n",
       "      <td>1</td>\n",
       "      <td>Maruti Wagon R LXI Minor</td>\n",
       "      <td>2007.0</td>\n",
       "      <td>135000</td>\n",
       "      <td>50000</td>\n",
       "      <td>Petrol</td>\n",
       "      <td>Individual</td>\n",
       "      <td>Manual</td>\n",
       "      <td>First Owner</td>\n",
       "    </tr>\n",
       "    <tr>\n",
       "      <th>2</th>\n",
       "      <td>2</td>\n",
       "      <td>Hyundai Verna 1.6 SX</td>\n",
       "      <td>2012.0</td>\n",
       "      <td>600000</td>\n",
       "      <td>100000</td>\n",
       "      <td>Diesel</td>\n",
       "      <td>Individual</td>\n",
       "      <td>Manual</td>\n",
       "      <td>First Owner</td>\n",
       "    </tr>\n",
       "    <tr>\n",
       "      <th>3</th>\n",
       "      <td>3</td>\n",
       "      <td>Datsun RediGO T Option</td>\n",
       "      <td>2017.0</td>\n",
       "      <td>250000</td>\n",
       "      <td>46000</td>\n",
       "      <td>Petrol</td>\n",
       "      <td>Individual</td>\n",
       "      <td>Manual</td>\n",
       "      <td>First Owner</td>\n",
       "    </tr>\n",
       "    <tr>\n",
       "      <th>4</th>\n",
       "      <td>4</td>\n",
       "      <td>Honda Amaze VX i-DTEC</td>\n",
       "      <td>2014.0</td>\n",
       "      <td>450000</td>\n",
       "      <td>141000</td>\n",
       "      <td>Diesel</td>\n",
       "      <td>Individual</td>\n",
       "      <td>Manual</td>\n",
       "      <td>Second Owner</td>\n",
       "    </tr>\n",
       "  </tbody>\n",
       "</table>\n",
       "</div>"
      ],
      "text/plain": [
       "   Unnamed: 0                      name    year  selling_price  km_driven  \\\n",
       "0           0             Maruti 800 AC  2007.0          60000      70000   \n",
       "1           1  Maruti Wagon R LXI Minor  2007.0         135000      50000   \n",
       "2           2      Hyundai Verna 1.6 SX  2012.0         600000     100000   \n",
       "3           3    Datsun RediGO T Option  2017.0         250000      46000   \n",
       "4           4     Honda Amaze VX i-DTEC  2014.0         450000     141000   \n",
       "\n",
       "     fuel seller_type transmission         owner  \n",
       "0  Petrol  Individual       Manual   First Owner  \n",
       "1  Petrol  Individual       Manual   First Owner  \n",
       "2  Diesel  Individual       Manual   First Owner  \n",
       "3  Petrol  Individual       Manual   First Owner  \n",
       "4  Diesel  Individual       Manual  Second Owner  "
      ]
     },
     "execution_count": 10,
     "metadata": {},
     "output_type": "execute_result"
    }
   ],
   "source": [
    "clean_df.head()"
   ]
  },
  {
   "cell_type": "code",
   "execution_count": 11,
   "id": "x9kRAcHs0JgM",
   "metadata": {
    "colab": {
     "base_uri": "https://localhost:8080/"
    },
    "executionInfo": {
     "elapsed": 358,
     "status": "ok",
     "timestamp": 1724107501231,
     "user": {
      "displayName": "Yuzhe Tian",
      "userId": "05567834028890049819"
     },
     "user_tz": -600
    },
    "id": "x9kRAcHs0JgM",
    "outputId": "80544043-5277-43e6-f7e5-34a6bf873914"
   },
   "outputs": [
    {
     "data": {
      "text/plain": [
       "(3886, 9)"
      ]
     },
     "execution_count": 11,
     "metadata": {},
     "output_type": "execute_result"
    }
   ],
   "source": [
    "clean_df.shape"
   ]
  },
  {
   "cell_type": "code",
   "execution_count": 12,
   "id": "605f4ef0",
   "metadata": {
    "colab": {
     "base_uri": "https://localhost:8080/"
    },
    "executionInfo": {
     "elapsed": 11,
     "status": "ok",
     "timestamp": 1724106642164,
     "user": {
      "displayName": "Yuzhe Tian",
      "userId": "05567834028890049819"
     },
     "user_tz": -600
    },
    "id": "605f4ef0",
    "outputId": "b541e7fb-c829-430d-ec7c-5d33ed59a231"
   },
   "outputs": [
    {
     "name": "stdout",
     "output_type": "stream",
     "text": [
      "the number of unique name is 1402\n",
      "the number of unique seller_type is 3\n",
      "the number of unique transmission is 2\n",
      "the number of unique owner is 5\n"
     ]
    }
   ],
   "source": [
    "# Q2.1\n",
    "user_array = clean_df['name'].unique()\n",
    "print('the number of unique name is', len(user_array))\n",
    "\n",
    "review_array = clean_df['seller_type'].unique()\n",
    "print('the number of unique seller_type is', len(review_array))\n",
    "\n",
    "item_array = clean_df['transmission'].unique()\n",
    "print('the number of unique transmission is', len(item_array))\n",
    "\n",
    "category_array = clean_df['owner'].unique()\n",
    "print('the number of unique owner is', len(category_array))\n"
   ]
  },
  {
   "cell_type": "code",
   "execution_count": 13,
   "id": "c7083791",
   "metadata": {
    "colab": {
     "base_uri": "https://localhost:8080/",
     "height": 335
    },
    "executionInfo": {
     "elapsed": 10,
     "status": "ok",
     "timestamp": 1724106642164,
     "user": {
      "displayName": "Yuzhe Tian",
      "userId": "05567834028890049819"
     },
     "user_tz": -600
    },
    "id": "c7083791",
    "outputId": "5851d650-1424-41e3-fe37-f599c874b1a5"
   },
   "outputs": [
    {
     "data": {
      "text/plain": [
       "count      3886.000000\n",
       "mean      66313.279207\n",
       "std       46679.603916\n",
       "min           1.000000\n",
       "25%       35000.000000\n",
       "50%       60000.000000\n",
       "75%       90000.000000\n",
       "max      806599.000000\n",
       "Name: km_driven, dtype: float64"
      ]
     },
     "execution_count": 13,
     "metadata": {},
     "output_type": "execute_result"
    }
   ],
   "source": [
    "# Q2.2\n",
    "clean_df['km_driven'].describe()"
   ]
  },
  {
   "cell_type": "code",
   "execution_count": 14,
   "id": "21475a66",
   "metadata": {
    "colab": {
     "base_uri": "https://localhost:8080/",
     "height": 520
    },
    "executionInfo": {
     "elapsed": 10,
     "status": "ok",
     "timestamp": 1724106642164,
     "user": {
      "displayName": "Yuzhe Tian",
      "userId": "05567834028890049819"
     },
     "user_tz": -600
    },
    "id": "21475a66",
    "outputId": "39a1fc02-36ec-4db1-cecc-0071e7a2ccbc"
   },
   "outputs": [
    {
     "data": {
      "text/html": [
       "<div>\n",
       "<style scoped>\n",
       "    .dataframe tbody tr th:only-of-type {\n",
       "        vertical-align: middle;\n",
       "    }\n",
       "\n",
       "    .dataframe tbody tr th {\n",
       "        vertical-align: top;\n",
       "    }\n",
       "\n",
       "    .dataframe thead th {\n",
       "        text-align: right;\n",
       "    }\n",
       "</style>\n",
       "<table border=\"1\" class=\"dataframe\">\n",
       "  <thead>\n",
       "    <tr style=\"text-align: right;\">\n",
       "      <th></th>\n",
       "      <th>Unnamed: 0</th>\n",
       "      <th>name</th>\n",
       "      <th>year</th>\n",
       "      <th>selling_price</th>\n",
       "      <th>km_driven</th>\n",
       "      <th>fuel</th>\n",
       "      <th>seller_type</th>\n",
       "      <th>transmission</th>\n",
       "      <th>owner</th>\n",
       "    </tr>\n",
       "  </thead>\n",
       "  <tbody>\n",
       "    <tr>\n",
       "      <th>0</th>\n",
       "      <td>0</td>\n",
       "      <td>Maruti 800 AC</td>\n",
       "      <td>2007.0</td>\n",
       "      <td>60000</td>\n",
       "      <td>70000</td>\n",
       "      <td>Petrol</td>\n",
       "      <td>Individual</td>\n",
       "      <td>Manual</td>\n",
       "      <td>First Owner</td>\n",
       "    </tr>\n",
       "    <tr>\n",
       "      <th>1</th>\n",
       "      <td>1</td>\n",
       "      <td>Maruti Wagon R LXI Minor</td>\n",
       "      <td>2007.0</td>\n",
       "      <td>135000</td>\n",
       "      <td>50000</td>\n",
       "      <td>Petrol</td>\n",
       "      <td>Individual</td>\n",
       "      <td>Manual</td>\n",
       "      <td>First Owner</td>\n",
       "    </tr>\n",
       "    <tr>\n",
       "      <th>2</th>\n",
       "      <td>2</td>\n",
       "      <td>Hyundai Verna 1.6 SX</td>\n",
       "      <td>2012.0</td>\n",
       "      <td>600000</td>\n",
       "      <td>100000</td>\n",
       "      <td>Diesel</td>\n",
       "      <td>Individual</td>\n",
       "      <td>Manual</td>\n",
       "      <td>First Owner</td>\n",
       "    </tr>\n",
       "    <tr>\n",
       "      <th>3</th>\n",
       "      <td>3</td>\n",
       "      <td>Datsun RediGO T Option</td>\n",
       "      <td>2017.0</td>\n",
       "      <td>250000</td>\n",
       "      <td>46000</td>\n",
       "      <td>Petrol</td>\n",
       "      <td>Individual</td>\n",
       "      <td>Manual</td>\n",
       "      <td>First Owner</td>\n",
       "    </tr>\n",
       "    <tr>\n",
       "      <th>4</th>\n",
       "      <td>4</td>\n",
       "      <td>Honda Amaze VX i-DTEC</td>\n",
       "      <td>2014.0</td>\n",
       "      <td>450000</td>\n",
       "      <td>141000</td>\n",
       "      <td>Diesel</td>\n",
       "      <td>Individual</td>\n",
       "      <td>Manual</td>\n",
       "      <td>Second Owner</td>\n",
       "    </tr>\n",
       "    <tr>\n",
       "      <th>12</th>\n",
       "      <td>12</td>\n",
       "      <td>Toyota Corolla Altis 1.8 VL CVT</td>\n",
       "      <td>2018.0</td>\n",
       "      <td>1650000</td>\n",
       "      <td>25000</td>\n",
       "      <td>Petrol</td>\n",
       "      <td>Dealer</td>\n",
       "      <td>Automatic</td>\n",
       "      <td>First Owner</td>\n",
       "    </tr>\n",
       "    <tr>\n",
       "      <th>25</th>\n",
       "      <td>25</td>\n",
       "      <td>Toyota Corolla Altis 1.8 VL CVT</td>\n",
       "      <td>2018.0</td>\n",
       "      <td>1650000</td>\n",
       "      <td>25000</td>\n",
       "      <td>Petrol</td>\n",
       "      <td>Dealer</td>\n",
       "      <td>Automatic</td>\n",
       "      <td>First Owner</td>\n",
       "    </tr>\n",
       "    <tr>\n",
       "      <th>26</th>\n",
       "      <td>26</td>\n",
       "      <td>Maruti Ciaz VXi Plus</td>\n",
       "      <td>2015.0</td>\n",
       "      <td>585000</td>\n",
       "      <td>24000</td>\n",
       "      <td>Petrol</td>\n",
       "      <td>Dealer</td>\n",
       "      <td>Manual</td>\n",
       "      <td>First Owner</td>\n",
       "    </tr>\n",
       "    <tr>\n",
       "      <th>27</th>\n",
       "      <td>27</td>\n",
       "      <td>Hyundai Venue SX Opt Diesel</td>\n",
       "      <td>2019.0</td>\n",
       "      <td>1195000</td>\n",
       "      <td>5000</td>\n",
       "      <td>Diesel</td>\n",
       "      <td>Dealer</td>\n",
       "      <td>Manual</td>\n",
       "      <td>First Owner</td>\n",
       "    </tr>\n",
       "    <tr>\n",
       "      <th>29</th>\n",
       "      <td>29</td>\n",
       "      <td>Jaguar XF 2.2 Litre Luxury</td>\n",
       "      <td>2014.0</td>\n",
       "      <td>1964999</td>\n",
       "      <td>28000</td>\n",
       "      <td>Diesel</td>\n",
       "      <td>Dealer</td>\n",
       "      <td>Automatic</td>\n",
       "      <td>First Owner</td>\n",
       "    </tr>\n",
       "    <tr>\n",
       "      <th>540</th>\n",
       "      <td>540</td>\n",
       "      <td>Maruti Swift ZXI BSIV</td>\n",
       "      <td>2016.0</td>\n",
       "      <td>670000</td>\n",
       "      <td>7104</td>\n",
       "      <td>Petrol</td>\n",
       "      <td>Trustmark Dealer</td>\n",
       "      <td>Manual</td>\n",
       "      <td>First Owner</td>\n",
       "    </tr>\n",
       "    <tr>\n",
       "      <th>541</th>\n",
       "      <td>541</td>\n",
       "      <td>Maruti S-Cross Zeta DDiS 200 SH</td>\n",
       "      <td>2015.0</td>\n",
       "      <td>750000</td>\n",
       "      <td>45974</td>\n",
       "      <td>Diesel</td>\n",
       "      <td>Trustmark Dealer</td>\n",
       "      <td>Manual</td>\n",
       "      <td>First Owner</td>\n",
       "    </tr>\n",
       "    <tr>\n",
       "      <th>542</th>\n",
       "      <td>542</td>\n",
       "      <td>Hyundai Verna 1.6 VTVT SX</td>\n",
       "      <td>2015.0</td>\n",
       "      <td>760000</td>\n",
       "      <td>55340</td>\n",
       "      <td>Petrol</td>\n",
       "      <td>Trustmark Dealer</td>\n",
       "      <td>Manual</td>\n",
       "      <td>First Owner</td>\n",
       "    </tr>\n",
       "    <tr>\n",
       "      <th>544</th>\n",
       "      <td>544</td>\n",
       "      <td>Renault Pulse RxL</td>\n",
       "      <td>2015.0</td>\n",
       "      <td>390000</td>\n",
       "      <td>61585</td>\n",
       "      <td>Diesel</td>\n",
       "      <td>Trustmark Dealer</td>\n",
       "      <td>Manual</td>\n",
       "      <td>First Owner</td>\n",
       "    </tr>\n",
       "    <tr>\n",
       "      <th>545</th>\n",
       "      <td>545</td>\n",
       "      <td>Maruti Celerio VXI AMT BSIV</td>\n",
       "      <td>2016.0</td>\n",
       "      <td>450000</td>\n",
       "      <td>39415</td>\n",
       "      <td>Petrol</td>\n",
       "      <td>Trustmark Dealer</td>\n",
       "      <td>Automatic</td>\n",
       "      <td>Second Owner</td>\n",
       "    </tr>\n",
       "  </tbody>\n",
       "</table>\n",
       "</div>"
      ],
      "text/plain": [
       "     Unnamed: 0                             name    year  selling_price  \\\n",
       "0             0                    Maruti 800 AC  2007.0          60000   \n",
       "1             1         Maruti Wagon R LXI Minor  2007.0         135000   \n",
       "2             2             Hyundai Verna 1.6 SX  2012.0         600000   \n",
       "3             3           Datsun RediGO T Option  2017.0         250000   \n",
       "4             4            Honda Amaze VX i-DTEC  2014.0         450000   \n",
       "12           12  Toyota Corolla Altis 1.8 VL CVT  2018.0        1650000   \n",
       "25           25  Toyota Corolla Altis 1.8 VL CVT  2018.0        1650000   \n",
       "26           26             Maruti Ciaz VXi Plus  2015.0         585000   \n",
       "27           27      Hyundai Venue SX Opt Diesel  2019.0        1195000   \n",
       "29           29       Jaguar XF 2.2 Litre Luxury  2014.0        1964999   \n",
       "540         540            Maruti Swift ZXI BSIV  2016.0         670000   \n",
       "541         541  Maruti S-Cross Zeta DDiS 200 SH  2015.0         750000   \n",
       "542         542        Hyundai Verna 1.6 VTVT SX  2015.0         760000   \n",
       "544         544                Renault Pulse RxL  2015.0         390000   \n",
       "545         545      Maruti Celerio VXI AMT BSIV  2016.0         450000   \n",
       "\n",
       "     km_driven    fuel       seller_type transmission         owner  \n",
       "0        70000  Petrol        Individual       Manual   First Owner  \n",
       "1        50000  Petrol        Individual       Manual   First Owner  \n",
       "2       100000  Diesel        Individual       Manual   First Owner  \n",
       "3        46000  Petrol        Individual       Manual   First Owner  \n",
       "4       141000  Diesel        Individual       Manual  Second Owner  \n",
       "12       25000  Petrol            Dealer    Automatic   First Owner  \n",
       "25       25000  Petrol            Dealer    Automatic   First Owner  \n",
       "26       24000  Petrol            Dealer       Manual   First Owner  \n",
       "27        5000  Diesel            Dealer       Manual   First Owner  \n",
       "29       28000  Diesel            Dealer    Automatic   First Owner  \n",
       "540       7104  Petrol  Trustmark Dealer       Manual   First Owner  \n",
       "541      45974  Diesel  Trustmark Dealer       Manual   First Owner  \n",
       "542      55340  Petrol  Trustmark Dealer       Manual   First Owner  \n",
       "544      61585  Diesel  Trustmark Dealer       Manual   First Owner  \n",
       "545      39415  Petrol  Trustmark Dealer    Automatic  Second Owner  "
      ]
     },
     "execution_count": 14,
     "metadata": {},
     "output_type": "execute_result"
    }
   ],
   "source": [
    "# Q2.3 group users by their genders and then count the number of selling_price\n",
    "temp1 = clean_df.groupby(['seller_type'])\n",
    "temp1.head()"
   ]
  },
  {
   "cell_type": "code",
   "execution_count": 15,
   "id": "3795279b",
   "metadata": {
    "colab": {
     "base_uri": "https://localhost:8080/",
     "height": 210
    },
    "executionInfo": {
     "elapsed": 9,
     "status": "ok",
     "timestamp": 1724106642164,
     "user": {
      "displayName": "Yuzhe Tian",
      "userId": "05567834028890049819"
     },
     "user_tz": -600
    },
    "id": "3795279b",
    "outputId": "eefebbda-2a47-44fe-e507-de88f9e4587f"
   },
   "outputs": [
    {
     "data": {
      "text/plain": [
       "seller_type\n",
       "Dealer               889\n",
       "Individual          2903\n",
       "Trustmark Dealer      94\n",
       "Name: selling_price, dtype: int64"
      ]
     },
     "execution_count": 15,
     "metadata": {},
     "output_type": "execute_result"
    }
   ],
   "source": [
    "temp2 = temp1['selling_price'].count()\n",
    "temp2"
   ]
  },
  {
   "cell_type": "code",
   "execution_count": 16,
   "id": "9744b775",
   "metadata": {
    "colab": {
     "base_uri": "https://localhost:8080/",
     "height": 143
    },
    "executionInfo": {
     "elapsed": 10,
     "status": "ok",
     "timestamp": 1724106642165,
     "user": {
      "displayName": "Yuzhe Tian",
      "userId": "05567834028890049819"
     },
     "user_tz": -600
    },
    "id": "9744b775",
    "outputId": "0005bfcd-1cf8-44cc-9264-b2907f14f9b9"
   },
   "outputs": [
    {
     "data": {
      "text/html": [
       "<div>\n",
       "<style scoped>\n",
       "    .dataframe tbody tr th:only-of-type {\n",
       "        vertical-align: middle;\n",
       "    }\n",
       "\n",
       "    .dataframe tbody tr th {\n",
       "        vertical-align: top;\n",
       "    }\n",
       "\n",
       "    .dataframe thead th {\n",
       "        text-align: right;\n",
       "    }\n",
       "</style>\n",
       "<table border=\"1\" class=\"dataframe\">\n",
       "  <thead>\n",
       "    <tr style=\"text-align: right;\">\n",
       "      <th></th>\n",
       "      <th>seller_type</th>\n",
       "      <th>count</th>\n",
       "    </tr>\n",
       "  </thead>\n",
       "  <tbody>\n",
       "    <tr>\n",
       "      <th>0</th>\n",
       "      <td>Dealer</td>\n",
       "      <td>889</td>\n",
       "    </tr>\n",
       "    <tr>\n",
       "      <th>1</th>\n",
       "      <td>Individual</td>\n",
       "      <td>2903</td>\n",
       "    </tr>\n",
       "    <tr>\n",
       "      <th>2</th>\n",
       "      <td>Trustmark Dealer</td>\n",
       "      <td>94</td>\n",
       "    </tr>\n",
       "  </tbody>\n",
       "</table>\n",
       "</div>"
      ],
      "text/plain": [
       "        seller_type  count\n",
       "0            Dealer    889\n",
       "1        Individual   2903\n",
       "2  Trustmark Dealer     94"
      ]
     },
     "execution_count": 16,
     "metadata": {},
     "output_type": "execute_result"
    }
   ],
   "source": [
    "seller_type_selling_price_num = temp2.reset_index(name='count')\n",
    "seller_type_selling_price_num.head()\n",
    "seller_type_selling_price_num"
   ]
  },
  {
   "cell_type": "code",
   "execution_count": 17,
   "id": "a97b3dcd",
   "metadata": {
    "colab": {
     "base_uri": "https://localhost:8080/",
     "height": 335
    },
    "executionInfo": {
     "elapsed": 463,
     "status": "ok",
     "timestamp": 1724106642619,
     "user": {
      "displayName": "Yuzhe Tian",
      "userId": "05567834028890049819"
     },
     "user_tz": -600
    },
    "id": "a97b3dcd",
    "outputId": "c05b9609-117c-4a54-eb6e-252fc5411c54"
   },
   "outputs": [
    {
     "data": {
      "text/plain": [
       "count       3.000000\n",
       "mean     1295.333333\n",
       "std      1447.912405\n",
       "min        94.000000\n",
       "25%       491.500000\n",
       "50%       889.000000\n",
       "75%      1896.000000\n",
       "max      2903.000000\n",
       "Name: count, dtype: float64"
      ]
     },
     "execution_count": 17,
     "metadata": {},
     "output_type": "execute_result"
    }
   ],
   "source": [
    "seller_type_selling_price_num['count'].describe()"
   ]
  },
  {
   "cell_type": "code",
   "execution_count": 18,
   "id": "dfea92f7",
   "metadata": {
    "colab": {
     "base_uri": "https://localhost:8080/",
     "height": 335
    },
    "executionInfo": {
     "elapsed": 10,
     "status": "ok",
     "timestamp": 1724106642620,
     "user": {
      "displayName": "Yuzhe Tian",
      "userId": "05567834028890049819"
     },
     "user_tz": -600
    },
    "id": "dfea92f7",
    "outputId": "950373c5-157e-4e1e-8a79-c870a0fb702a"
   },
   "outputs": [
    {
     "data": {
      "text/plain": [
       "count       3.000000\n",
       "mean     1295.333333\n",
       "std      1447.912405\n",
       "min        94.000000\n",
       "25%       491.500000\n",
       "50%       889.000000\n",
       "75%      1896.000000\n",
       "max      2903.000000\n",
       "Name: count, dtype: float64"
      ]
     },
     "execution_count": 18,
     "metadata": {},
     "output_type": "execute_result"
    }
   ],
   "source": [
    "# Q2.3 if you like to combine the codes together\n",
    "gender_item_num = clean_df.groupby(['seller_type'])['selling_price'].count().reset_index(name='count')\n",
    "gender_item_num['count'].describe()"
   ]
  },
  {
   "cell_type": "code",
   "execution_count": 19,
   "id": "b1d32f2c",
   "metadata": {
    "executionInfo": {
     "elapsed": 9,
     "status": "ok",
     "timestamp": 1724106642620,
     "user": {
      "displayName": "Yuzhe Tian",
      "userId": "05567834028890049819"
     },
     "user_tz": -600
    },
    "id": "b1d32f2c"
   },
   "outputs": [],
   "source": [
    "# Q2.4 group records by seller_type and then count the number of years\n",
    "temp1 = clean_df.groupby(['owner'])\n",
    "temp2 = temp1['year'].count()\n",
    "year_owner_num = temp2.reset_index(name='count')"
   ]
  },
  {
   "cell_type": "code",
   "execution_count": 20,
   "id": "8b1113aa",
   "metadata": {
    "colab": {
     "base_uri": "https://localhost:8080/",
     "height": 206
    },
    "executionInfo": {
     "elapsed": 9,
     "status": "ok",
     "timestamp": 1724106642620,
     "user": {
      "displayName": "Yuzhe Tian",
      "userId": "05567834028890049819"
     },
     "user_tz": -600
    },
    "id": "8b1113aa",
    "outputId": "cf480604-9209-4a75-a789-e665fca03287"
   },
   "outputs": [
    {
     "data": {
      "text/html": [
       "<div>\n",
       "<style scoped>\n",
       "    .dataframe tbody tr th:only-of-type {\n",
       "        vertical-align: middle;\n",
       "    }\n",
       "\n",
       "    .dataframe tbody tr th {\n",
       "        vertical-align: top;\n",
       "    }\n",
       "\n",
       "    .dataframe thead th {\n",
       "        text-align: right;\n",
       "    }\n",
       "</style>\n",
       "<table border=\"1\" class=\"dataframe\">\n",
       "  <thead>\n",
       "    <tr style=\"text-align: right;\">\n",
       "      <th></th>\n",
       "      <th>owner</th>\n",
       "      <th>count</th>\n",
       "    </tr>\n",
       "  </thead>\n",
       "  <tbody>\n",
       "    <tr>\n",
       "      <th>0</th>\n",
       "      <td>First Owner</td>\n",
       "      <td>2532</td>\n",
       "    </tr>\n",
       "    <tr>\n",
       "      <th>1</th>\n",
       "      <td>Fourth &amp; Above Owner</td>\n",
       "      <td>67</td>\n",
       "    </tr>\n",
       "    <tr>\n",
       "      <th>2</th>\n",
       "      <td>Second Owner</td>\n",
       "      <td>1000</td>\n",
       "    </tr>\n",
       "    <tr>\n",
       "      <th>3</th>\n",
       "      <td>Test Drive Car</td>\n",
       "      <td>14</td>\n",
       "    </tr>\n",
       "    <tr>\n",
       "      <th>4</th>\n",
       "      <td>Third Owner</td>\n",
       "      <td>273</td>\n",
       "    </tr>\n",
       "  </tbody>\n",
       "</table>\n",
       "</div>"
      ],
      "text/plain": [
       "                  owner  count\n",
       "0           First Owner   2532\n",
       "1  Fourth & Above Owner     67\n",
       "2          Second Owner   1000\n",
       "3        Test Drive Car     14\n",
       "4           Third Owner    273"
      ]
     },
     "execution_count": 20,
     "metadata": {},
     "output_type": "execute_result"
    }
   ],
   "source": [
    "year_owner_num.head()"
   ]
  },
  {
   "cell_type": "code",
   "execution_count": 21,
   "id": "234c9f12",
   "metadata": {
    "colab": {
     "base_uri": "https://localhost:8080/",
     "height": 335
    },
    "executionInfo": {
     "elapsed": 8,
     "status": "ok",
     "timestamp": 1724106642620,
     "user": {
      "displayName": "Yuzhe Tian",
      "userId": "05567834028890049819"
     },
     "user_tz": -600
    },
    "id": "234c9f12",
    "outputId": "02fa1c67-2c23-4590-e572-57d57024832a"
   },
   "outputs": [
    {
     "data": {
      "text/plain": [
       "count       5.000000\n",
       "mean      777.200000\n",
       "std      1057.123314\n",
       "min        14.000000\n",
       "25%        67.000000\n",
       "50%       273.000000\n",
       "75%      1000.000000\n",
       "max      2532.000000\n",
       "Name: count, dtype: float64"
      ]
     },
     "execution_count": 21,
     "metadata": {},
     "output_type": "execute_result"
    }
   ],
   "source": [
    "year_owner_num['count'].describe()"
   ]
  },
  {
   "cell_type": "code",
   "execution_count": 22,
   "id": "3d7216a1",
   "metadata": {
    "colab": {
     "base_uri": "https://localhost:8080/",
     "height": 335
    },
    "executionInfo": {
     "elapsed": 7,
     "status": "ok",
     "timestamp": 1724106642620,
     "user": {
      "displayName": "Yuzhe Tian",
      "userId": "05567834028890049819"
     },
     "user_tz": -600
    },
    "id": "3d7216a1",
    "outputId": "16534485-6ce0-45a6-cf0f-a374fb9c59fe"
   },
   "outputs": [
    {
     "data": {
      "text/plain": [
       "count       5.000000\n",
       "mean      777.200000\n",
       "std      1057.123314\n",
       "min        14.000000\n",
       "25%        67.000000\n",
       "50%       273.000000\n",
       "75%      1000.000000\n",
       "max      2532.000000\n",
       "Name: count, dtype: float64"
      ]
     },
     "execution_count": 22,
     "metadata": {},
     "output_type": "execute_result"
    }
   ],
   "source": [
    "# Q2.4 if you like to combine the codes together\n",
    "rate_item_num = clean_df.groupby(['owner'])['year'].count().reset_index(name='count')\n",
    "rate_item_num['count'].describe()"
   ]
  },
  {
   "cell_type": "markdown",
   "id": "PISggxe5qndR",
   "metadata": {
    "id": "PISggxe5qndR"
   },
   "source": [
    "## Q3. Plotting and Analysis\n",
    "\n",
    "Please try to explore the correlation between fuel/year/seller_type/transmission/owner and selling_price; for instance, do First Owner cars tend to sell higher prices than second owner cars? Hint: you may use the boxplot function to plot figures for comparison\n",
    "    \n",
    "You may need to select the most suitable graphic forms for ease of presentation. Most importantly, for each figure or subfigure, please summarise ___what each plot shows___ (i.e. observations and explanations). Finally, you are required to provide an overall summary of your findings from the plots you generated."
   ]
  },
  {
   "cell_type": "markdown",
   "id": "52967175",
   "metadata": {
    "id": "52967175"
   },
   "source": [
    "### Analysis and Observation, selling_price vs fuel\n",
    "\n",
    "_Below only shows several possible observations as examples. You may have more different ones._\n",
    "\n",
    "- Cars with Diesel have a higher medium seller price than cars with petrol.\n",
    "- Cars with Diesel have a higher variance of seller price than cars with petrol.\n",
    "- Electrical cars have the smallest variance."
   ]
  },
  {
   "cell_type": "code",
   "execution_count": 23,
   "id": "5dae5eea",
   "metadata": {
    "colab": {
     "base_uri": "https://localhost:8080/",
     "height": 614
    },
    "executionInfo": {
     "elapsed": 655,
     "status": "ok",
     "timestamp": 1724106643268,
     "user": {
      "displayName": "Yuzhe Tian",
      "userId": "05567834028890049819"
     },
     "user_tz": -600
    },
    "id": "5dae5eea",
    "outputId": "a1624294-fef3-46f5-81d8-7bee972f4aae"
   },
   "outputs": [
    {
     "data": {
      "text/plain": [
       "(array([1, 2, 3, 4, 5]),\n",
       " [Text(1, 0, 'CNG'),\n",
       "  Text(2, 0, 'Diesel'),\n",
       "  Text(3, 0, 'Electric'),\n",
       "  Text(4, 0, 'LPG'),\n",
       "  Text(5, 0, 'Petrol')])"
      ]
     },
     "execution_count": 23,
     "metadata": {},
     "output_type": "execute_result"
    },
    {
     "data": {
      "image/png": "[encoded data removed]",
      "text/plain": [
       "<Figure size 640x480 with 1 Axes>"
      ]
     },
     "metadata": {},
     "output_type": "display_data"
    }
   ],
   "source": [
    "# fuel-selling_price correlation\n",
    "clean_df.boxplot(\"selling_price\", by=\"fuel\")\n",
    "plt.xticks(rotation=45)"
   ]
  },
  {
   "cell_type": "markdown",
   "id": "ed032033",
   "metadata": {
    "id": "ed032033"
   },
   "source": [
    "### Analysis and Observation, selling_price vs year\n",
    "\n",
    "_Below only shows several possible observations as examples. You may have more different ones._\n",
    "\n",
    "- Cars with newer bought year have higher selling prices\n",
    "- Cars with newer bought year have larger standard deviations."
   ]
  },
  {
   "cell_type": "code",
   "execution_count": 24,
   "id": "dabef2eb",
   "metadata": {
    "colab": {
     "base_uri": "https://localhost:8080/",
     "height": 1000
    },
    "executionInfo": {
     "elapsed": 1069,
     "status": "ok",
     "timestamp": 1724106644336,
     "user": {
      "displayName": "Yuzhe Tian",
      "userId": "05567834028890049819"
     },
     "user_tz": -600
    },
    "id": "dabef2eb",
    "outputId": "bc38848e-2850-4997-c894-d9e90aed6fdb"
   },
   "outputs": [
    {
     "data": {
      "text/plain": [
       "(array([ 1,  2,  3,  4,  5,  6,  7,  8,  9, 10, 11, 12, 13, 14, 15, 16, 17,\n",
       "        18, 19, 20, 21, 22, 23, 24, 25, 26, 27]),\n",
       " [Text(1, 0, '1992.0'),\n",
       "  Text(2, 0, '1995.0'),\n",
       "  Text(3, 0, '1996.0'),\n",
       "  Text(4, 0, '1997.0'),\n",
       "  Text(5, 0, '1998.0'),\n",
       "  Text(6, 0, '1999.0'),\n",
       "  Text(7, 0, '2000.0'),\n",
       "  Text(8, 0, '2001.0'),\n",
       "  Text(9, 0, '2002.0'),\n",
       "  Text(10, 0, '2003.0'),\n",
       "  Text(11, 0, '2004.0'),\n",
       "  Text(12, 0, '2005.0'),\n",
       "  Text(13, 0, '2006.0'),\n",
       "  Text(14, 0, '2007.0'),\n",
       "  Text(15, 0, '2008.0'),\n",
       "  Text(16, 0, '2009.0'),\n",
       "  Text(17, 0, '2010.0'),\n",
       "  Text(18, 0, '2011.0'),\n",
       "  Text(19, 0, '2012.0'),\n",
       "  Text(20, 0, '2013.0'),\n",
       "  Text(21, 0, '2014.0'),\n",
       "  Text(22, 0, '2015.0'),\n",
       "  Text(23, 0, '2016.0'),\n",
       "  Text(24, 0, '2017.0'),\n",
       "  Text(25, 0, '2018.0'),\n",
       "  Text(26, 0, '2019.0'),\n",
       "  Text(27, 0, '2020.0')])"
      ]
     },
     "execution_count": 24,
     "metadata": {},
     "output_type": "execute_result"
    },
    {
     "data": {
      "image/png": "[encoded data removed]",
      "text/plain": [
       "<Figure size 640x480 with 1 Axes>"
      ]
     },
     "metadata": {},
     "output_type": "display_data"
    }
   ],
   "source": [
    "# year-selling_price correlation\n",
    "clean_df.boxplot(\"selling_price\", by=\"year\")\n",
    "plt.xticks(rotation=45)"
   ]
  },
  {
   "cell_type": "markdown",
   "id": "556ad86a",
   "metadata": {
    "id": "556ad86a"
   },
   "source": [
    "### Analysis and Observation, selling_price vs seller_type\n",
    "\n",
    "_Below only shows several possible observations as examples. You may have more different ones._\n",
    "\n",
    "- Cars sold with dealer have higher selling prices\n",
    "- Cars sold with dealer have larger standard deviations."
   ]
  },
  {
   "cell_type": "code",
   "execution_count": 25,
   "id": "7bfe9a49",
   "metadata": {
    "colab": {
     "base_uri": "https://localhost:8080/",
     "height": 628
    },
    "executionInfo": {
     "elapsed": 895,
     "status": "ok",
     "timestamp": 1724106645228,
     "user": {
      "displayName": "Yuzhe Tian",
      "userId": "05567834028890049819"
     },
     "user_tz": -600
    },
    "id": "7bfe9a49",
    "outputId": "ff6a88bd-7525-4ec6-9736-1b4ce7b6e259"
   },
   "outputs": [
    {
     "data": {
      "text/plain": [
       "(array([1, 2, 3]),\n",
       " [Text(1, 0, 'Dealer'),\n",
       "  Text(2, 0, 'Individual'),\n",
       "  Text(3, 0, 'Trustmark Dealer')])"
      ]
     },
     "execution_count": 25,
     "metadata": {},
     "output_type": "execute_result"
    },
    {
     "data": {
      "image/png": "[encoded data removed]",
      "text/plain": [
       "<Figure size 640x480 with 1 Axes>"
      ]
     },
     "metadata": {},
     "output_type": "display_data"
    }
   ],
   "source": [
    "# seller_type-selling_price correlation\n",
    "clean_df.boxplot(\"selling_price\", by=\"seller_type\")\n",
    "plt.xticks(rotation=45)"
   ]
  },
  {
   "cell_type": "markdown",
   "id": "51ef7bfd",
   "metadata": {
    "id": "51ef7bfd"
   },
   "source": [
    "### Analysis and Observation, selling_price vs transmission\n",
    "\n",
    "_Below only shows several possible observations as examples. You may have more different ones._\n",
    "\n",
    "- Automatic cars have higher selling prices\n",
    "- Automatic cars have larger standard deviations."
   ]
  },
  {
   "cell_type": "code",
   "execution_count": 26,
   "id": "64944225",
   "metadata": {
    "colab": {
     "base_uri": "https://localhost:8080/",
     "height": 542
    },
    "executionInfo": {
     "elapsed": 5,
     "status": "ok",
     "timestamp": 1724106645228,
     "user": {
      "displayName": "Yuzhe Tian",
      "userId": "05567834028890049819"
     },
     "user_tz": -600
    },
    "id": "64944225",
    "outputId": "189a0517-b5bc-41a6-9691-c287d66cda6e"
   },
   "outputs": [
    {
     "data": {
      "text/plain": [
       "(array([1, 2]), [Text(1, 0, 'Automatic'), Text(2, 0, 'Manual')])"
      ]
     },
     "execution_count": 26,
     "metadata": {},
     "output_type": "execute_result"
    },
    {
     "data": {
      "image/png": "[encoded data removed]",
      "text/plain": [
       "<Figure size 640x480 with 1 Axes>"
      ]
     },
     "metadata": {},
     "output_type": "display_data"
    }
   ],
   "source": [
    "# fuel-selling_price correlation\n",
    "clean_df.boxplot(\"selling_price\", by=\"transmission\")\n",
    "plt.xticks(rotation=45)"
   ]
  },
  {
   "cell_type": "markdown",
   "id": "39b4b9a0",
   "metadata": {
    "id": "39b4b9a0"
   },
   "source": [
    "### Analysis and Observation, selling_price vs owner\n",
    "\n",
    "_Below only shows several possible observations as examples. You may have more different ones._\n",
    "\n",
    "- Selling prices of cars decreases when the cars have more owning rounds\n",
    "- Test drive cars have the highest medium selling price."
   ]
  },
  {
   "cell_type": "code",
   "execution_count": 27,
   "id": "99ada9c8",
   "metadata": {
    "colab": {
     "base_uri": "https://localhost:8080/",
     "height": 689
    },
    "executionInfo": {
     "elapsed": 846,
     "status": "ok",
     "timestamp": 1724106646071,
     "user": {
      "displayName": "Yuzhe Tian",
      "userId": "05567834028890049819"
     },
     "user_tz": -600
    },
    "id": "99ada9c8",
    "outputId": "739bd95f-9cf9-4e96-ca48-06ed9e26df23",
    "scrolled": false
   },
   "outputs": [
    {
     "data": {
      "text/plain": [
       "(array([1, 2, 3, 4, 5]),\n",
       " [Text(1, 0, 'First Owner'),\n",
       "  Text(2, 0, 'Fourth & Above Owner'),\n",
       "  Text(3, 0, 'Second Owner'),\n",
       "  Text(4, 0, 'Test Drive Car'),\n",
       "  Text(5, 0, 'Third Owner')])"
      ]
     },
     "execution_count": 27,
     "metadata": {},
     "output_type": "execute_result"
    },
    {
     "data": {
      "image/png": "[encoded data removed]",
      "text/plain": [
       "<Figure size 640x480 with 1 Axes>"
      ]
     },
     "metadata": {},
     "output_type": "display_data"
    }
   ],
   "source": [
    "# owner-selling_price correlation\n",
    "clean_df.boxplot(\"selling_price\", by=\"owner\")\n",
    "plt.xticks(rotation=45)"
   ]
  },
  {
   "cell_type": "markdown",
   "id": "9294cd01",
   "metadata": {
    "id": "9294cd01"
   },
   "source": [
    "### Summary of the Data\n",
    "\n",
    "_Below only shows possible data summary as examples. You may have more different ones._\n",
    "\n",
    "- Cars in this data use 5 different types of fuels; and cars with Diesel and Petrol have larger standard deviation than cars with other fuels.\n",
    "- The bought year of Cars range from 1992 to 2020; and the selling prices of cars increase when the brought years are newer.\n",
    "- Cars are sold by 3 different seller types; and the dealer and individual sold cars have similar standard deviation.\n",
    "- Cars have 2 different types of transmission; and automatic cars both have higher selling prices and larger standard deviations than the manual cars.\n",
    "- There have been 5 different types of car owners; and the selling prices of cars decreases when cars have more rounds of ownership. Test Drive cars have the highest selling price.\n"
   ]
  },
  {
   "cell_type": "markdown",
   "id": "TxD3SLxRqndR",
   "metadata": {
    "id": "TxD3SLxRqndR"
   },
   "source": [
    "## Q4. Detect and remove outliers\n",
    "\n",
    "We define car sale records WITHOUT following ANY of the below three rules as outliers:\n",
    "\n",
    "1. owner to be first, second and third owner only\n",
    "2. Fuel to be Diesel or Petrol only\n",
    "3. Seller_type to be dealer or individual only\n",
    "\n",
    "Please remove the corresponding records in the csv file that is not qualified with the rules. After that, __print the length of the data__."
   ]
  },
  {
   "cell_type": "code",
   "execution_count": 28,
   "id": "2cebb936",
   "metadata": {
    "colab": {
     "base_uri": "https://localhost:8080/",
     "height": 206
    },
    "executionInfo": {
     "elapsed": 9,
     "status": "ok",
     "timestamp": 1724106646071,
     "user": {
      "displayName": "Yuzhe Tian",
      "userId": "05567834028890049819"
     },
     "user_tz": -600
    },
    "id": "2cebb936",
    "outputId": "a931b24f-a775-4dd1-f754-e65fc79fb2ae"
   },
   "outputs": [
    {
     "data": {
      "text/html": [
       "<div>\n",
       "<style scoped>\n",
       "    .dataframe tbody tr th:only-of-type {\n",
       "        vertical-align: middle;\n",
       "    }\n",
       "\n",
       "    .dataframe tbody tr th {\n",
       "        vertical-align: top;\n",
       "    }\n",
       "\n",
       "    .dataframe thead th {\n",
       "        text-align: right;\n",
       "    }\n",
       "</style>\n",
       "<table border=\"1\" class=\"dataframe\">\n",
       "  <thead>\n",
       "    <tr style=\"text-align: right;\">\n",
       "      <th></th>\n",
       "      <th>Unnamed: 0</th>\n",
       "      <th>name</th>\n",
       "      <th>year</th>\n",
       "      <th>selling_price</th>\n",
       "      <th>km_driven</th>\n",
       "      <th>fuel</th>\n",
       "      <th>seller_type</th>\n",
       "      <th>transmission</th>\n",
       "      <th>owner</th>\n",
       "    </tr>\n",
       "  </thead>\n",
       "  <tbody>\n",
       "    <tr>\n",
       "      <th>0</th>\n",
       "      <td>0</td>\n",
       "      <td>Maruti 800 AC</td>\n",
       "      <td>2007.0</td>\n",
       "      <td>60000</td>\n",
       "      <td>70000</td>\n",
       "      <td>Petrol</td>\n",
       "      <td>Individual</td>\n",
       "      <td>Manual</td>\n",
       "      <td>First Owner</td>\n",
       "    </tr>\n",
       "    <tr>\n",
       "      <th>1</th>\n",
       "      <td>1</td>\n",
       "      <td>Maruti Wagon R LXI Minor</td>\n",
       "      <td>2007.0</td>\n",
       "      <td>135000</td>\n",
       "      <td>50000</td>\n",
       "      <td>Petrol</td>\n",
       "      <td>Individual</td>\n",
       "      <td>Manual</td>\n",
       "      <td>First Owner</td>\n",
       "    </tr>\n",
       "    <tr>\n",
       "      <th>2</th>\n",
       "      <td>2</td>\n",
       "      <td>Hyundai Verna 1.6 SX</td>\n",
       "      <td>2012.0</td>\n",
       "      <td>600000</td>\n",
       "      <td>100000</td>\n",
       "      <td>Diesel</td>\n",
       "      <td>Individual</td>\n",
       "      <td>Manual</td>\n",
       "      <td>First Owner</td>\n",
       "    </tr>\n",
       "    <tr>\n",
       "      <th>3</th>\n",
       "      <td>3</td>\n",
       "      <td>Datsun RediGO T Option</td>\n",
       "      <td>2017.0</td>\n",
       "      <td>250000</td>\n",
       "      <td>46000</td>\n",
       "      <td>Petrol</td>\n",
       "      <td>Individual</td>\n",
       "      <td>Manual</td>\n",
       "      <td>First Owner</td>\n",
       "    </tr>\n",
       "    <tr>\n",
       "      <th>4</th>\n",
       "      <td>4</td>\n",
       "      <td>Honda Amaze VX i-DTEC</td>\n",
       "      <td>2014.0</td>\n",
       "      <td>450000</td>\n",
       "      <td>141000</td>\n",
       "      <td>Diesel</td>\n",
       "      <td>Individual</td>\n",
       "      <td>Manual</td>\n",
       "      <td>Second Owner</td>\n",
       "    </tr>\n",
       "  </tbody>\n",
       "</table>\n",
       "</div>"
      ],
      "text/plain": [
       "   Unnamed: 0                      name    year  selling_price  km_driven  \\\n",
       "0           0             Maruti 800 AC  2007.0          60000      70000   \n",
       "1           1  Maruti Wagon R LXI Minor  2007.0         135000      50000   \n",
       "2           2      Hyundai Verna 1.6 SX  2012.0         600000     100000   \n",
       "3           3    Datsun RediGO T Option  2017.0         250000      46000   \n",
       "4           4     Honda Amaze VX i-DTEC  2014.0         450000     141000   \n",
       "\n",
       "     fuel seller_type transmission         owner  \n",
       "0  Petrol  Individual       Manual   First Owner  \n",
       "1  Petrol  Individual       Manual   First Owner  \n",
       "2  Diesel  Individual       Manual   First Owner  \n",
       "3  Petrol  Individual       Manual   First Owner  \n",
       "4  Diesel  Individual       Manual  Second Owner  "
      ]
     },
     "execution_count": 28,
     "metadata": {},
     "output_type": "execute_result"
    }
   ],
   "source": [
    "clean_df.head()"
   ]
  },
  {
   "cell_type": "code",
   "execution_count": 29,
   "id": "add31c19",
   "metadata": {
    "colab": {
     "base_uri": "https://localhost:8080/"
    },
    "executionInfo": {
     "elapsed": 365,
     "status": "ok",
     "timestamp": 1724108099450,
     "user": {
      "displayName": "Yuzhe Tian",
      "userId": "05567834028890049819"
     },
     "user_tz": -600
    },
    "id": "add31c19",
    "outputId": "d154bbe0-013a-4ebd-db5d-073a8d19ec3d"
   },
   "outputs": [
    {
     "name": "stdout",
     "output_type": "stream",
     "text": [
      "the number of records after keeping cars with owners to be first, second and third owners is 3805\n"
     ]
    }
   ],
   "source": [
    "filtered_df = clean_df.loc[((clean_df['owner']=='First Owner')|(clean_df['owner']=='Second Owner')|(clean_df['owner']=='Third Owner'))]\n",
    "print('the number of records after keeping cars with owners to be first, second and third owners is', len(filtered_df))"
   ]
  },
  {
   "cell_type": "code",
   "execution_count": 30,
   "id": "ffbadda4",
   "metadata": {
    "colab": {
     "base_uri": "https://localhost:8080/"
    },
    "executionInfo": {
     "elapsed": 4,
     "status": "ok",
     "timestamp": 1724108100933,
     "user": {
      "displayName": "Yuzhe Tian",
      "userId": "05567834028890049819"
     },
     "user_tz": -600
    },
    "id": "ffbadda4",
    "outputId": "f1d10e90-01cf-4359-fc2a-c5e4edf2d960"
   },
   "outputs": [
    {
     "name": "stdout",
     "output_type": "stream",
     "text": [
      "the number of records after keeping cars with owners to be first, second and third owners and the fuel being Diesel and Petrol only is 3751\n"
     ]
    }
   ],
   "source": [
    "filtered_df = filtered_df.loc[((filtered_df['fuel']=='Diesel')|(filtered_df['fuel']=='Petrol'))]\n",
    "print('the number of records after keeping cars with owners to be first, second and third owners and the fuel being Diesel and Petrol only is', len(filtered_df))"
   ]
  },
  {
   "cell_type": "code",
   "execution_count": 31,
   "id": "a189601c",
   "metadata": {
    "colab": {
     "base_uri": "https://localhost:8080/"
    },
    "executionInfo": {
     "elapsed": 365,
     "status": "ok",
     "timestamp": 1724108105310,
     "user": {
      "displayName": "Yuzhe Tian",
      "userId": "05567834028890049819"
     },
     "user_tz": -600
    },
    "id": "a189601c",
    "outputId": "911791a1-49fa-4521-d9b5-52dc0af7bb40"
   },
   "outputs": [
    {
     "name": "stdout",
     "output_type": "stream",
     "text": [
      "the number of records after keeping cars with owners to be first, second and third owners and the fuel being Diesel and Petrol only and the seller type being dealer or individual is 3657\n"
     ]
    }
   ],
   "source": [
    "filtered_df = filtered_df.loc[((filtered_df['seller_type']=='Dealer')|(filtered_df['seller_type']=='Individual'))]\n",
    "print('the number of records after keeping cars with owners to be first, second and third owners and the fuel being Diesel and Petrol only and the seller type being dealer or individual is', len(filtered_df))"
   ]
  },
  {
   "cell_type": "code",
   "execution_count": 32,
   "id": "1c5afc02",
   "metadata": {
    "colab": {
     "base_uri": "https://localhost:8080/"
    },
    "executionInfo": {
     "elapsed": 3,
     "status": "ok",
     "timestamp": 1724108108022,
     "user": {
      "displayName": "Yuzhe Tian",
      "userId": "05567834028890049819"
     },
     "user_tz": -600
    },
    "id": "1c5afc02",
    "outputId": "dfa019d4-1ea3-4692-ebab-2fd461f89420"
   },
   "outputs": [
    {
     "name": "stdout",
     "output_type": "stream",
     "text": [
      "The length of clean data is:  3657\n"
     ]
    }
   ],
   "source": [
    "print('The length of clean data is: ', len(filtered_df))"
   ]
  },
  {
   "cell_type": "code",
   "execution_count": 33,
   "id": "265de39b",
   "metadata": {
    "executionInfo": {
     "elapsed": 354,
     "status": "ok",
     "timestamp": 1724108112055,
     "user": {
      "displayName": "Yuzhe Tian",
      "userId": "05567834028890049819"
     },
     "user_tz": -600
    },
    "id": "265de39b"
   },
   "outputs": [],
   "source": [
    "filtered_df.to_csv('car_sells_clean_data.csv', index=False)"
   ]
  },
  {
   "cell_type": "code",
   "execution_count": null,
   "id": "b7186e72",
   "metadata": {
    "executionInfo": {
     "elapsed": 4,
     "status": "ok",
     "timestamp": 1724106646071,
     "user": {
      "displayName": "Yuzhe Tian",
      "userId": "05567834028890049819"
     },
     "user_tz": -600
    },
    "id": "b7186e72"
   },
   "outputs": [],
   "source": []
  },
  {
   "cell_type": "code",
   "execution_count": null,
   "id": "a58a9f01",
   "metadata": {
    "executionInfo": {
     "elapsed": 4,
     "status": "ok",
     "timestamp": 1724106646071,
     "user": {
      "displayName": "Yuzhe Tian",
      "userId": "05567834028890049819"
     },
     "user_tz": -600
    },
    "id": "a58a9f01"
   },
   "outputs": [],
   "source": []
  }
 ],
 "metadata": {
  "colab": {
   "provenance": []
  },
  "kernelspec": {
   "display_name": "Python 3 (ipykernel)",
   "language": "python",
   "name": "python3"
  },
  "language_info": {
   "codemirror_mode": {
    "name": "ipython",
    "version": 3
   },
   "file_extension": ".py",
   "mimetype": "text/x-python",
   "name": "python",
   "nbconvert_exporter": "python",
   "pygments_lexer": "ipython3",
   "version": "3.11.5"
  }
 },
 "nbformat": 4,
 "nbformat_minor": 5
}
