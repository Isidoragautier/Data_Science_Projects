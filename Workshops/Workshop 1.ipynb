{
  "cells": [
    {
      "cell_type": "markdown",
      "metadata": {
        "id": "BNPI7Tq7ngp0"
      },
      "source": [
        "# COMP2200/COMP6200 Week 1 Practical"
      ]
    },
    {
      "cell_type": "markdown",
      "metadata": {
        "id": "VrVCKwo6ngp2"
      },
      "source": [
        "The goal of this week's practical is to get you started using Python, Jupyter Notebooks, and Git, three tools that you will use through the semester in your work.  \n",
        "\n",
        "**Python** is our language of choice in COMP2200/COMP6200. If you do not have any experience of using Python, you need to learn basic Python coding.\n",
        "\n",
        "You are looking at a **Jupyter Notebook**, it is a document that mixes text, code and the output of the code. A lot of your work will be creating notebooks like this to present your analysis.  \n",
        "\n",
        "**Git** is a distributed version control system (DVCS), you will use it to keep track of your work and ensure that you have a backup copy of what you are doing. You should have checked this notebook out of **Github** using Git. Your task this week is to complete some programming work in this worksheet and commit your changes to your own Bitbucket repository."
      ]
    },
    {
      "cell_type": "markdown",
      "metadata": {
        "id": "dA5vkqVkngp2"
      },
      "source": [
        "## Python Basics"
      ]
    },
    {
      "cell_type": "markdown",
      "metadata": {
        "id": "na6Fmnvongp3"
      },
      "source": [
        "Your task this week is to complete some basic programming tasks with Python in this worksheet.  There are questions below with a space for you to write code to achieve the given outcomes. Write the code, test it, and when you are done, submit your work as described at the end of the notebook.\n",
        "\n",
        "The tasks aren't meant to be complicated Python problems, just some simple tasks to get you started with this process.  "
      ]
    },
    {
      "cell_type": "markdown",
      "metadata": {
        "id": "__r-Z-tqngp3"
      },
      "source": [
        "### Examples - basics\n",
        "- How to define a variable\n",
        "- How to perform some basic arithmatic operation\n",
        "- How to use a constant"
      ]
    },
    {
      "cell_type": "code",
      "execution_count": null,
      "metadata": {
        "colab": {
          "base_uri": "https://localhost:8080/"
        },
        "id": "cdFSles1ngp3",
        "outputId": "b4bcad29-991d-4298-d39e-9f3047b54f7e"
      },
      "outputs": [
        {
          "output_type": "stream",
          "name": "stdout",
          "text": [
            "The area of the circle is:  78.53981633974483\n"
          ]
        }
      ],
      "source": [
        "# Let's show an example of calculating the area of a circle\n",
        "\n",
        "# Define the radius\n",
        "radius = 5\n",
        "\n",
        "# Then we can calculate the area.\n",
        "# We need to make use of a constant PI (around 3.1415926), which is defined in the module math\n",
        "import math\n",
        "\n",
        "area = math.pi * radius * radius\n",
        "\n",
        "print(\"The area of the circle is: \", area)\n"
      ]
    },
    {
      "cell_type": "markdown",
      "metadata": {
        "id": "3MXQfjGxngp5"
      },
      "source": [
        "- How to use a built-in function\n",
        "\n",
        "To calculate the the squared radius \"raius*radius\", we could also use the built-in function pow() in the math module."
      ]
    },
    {
      "cell_type": "code",
      "execution_count": null,
      "metadata": {
        "colab": {
          "base_uri": "https://localhost:8080/"
        },
        "id": "KFl8hcyAngp5",
        "outputId": "19147d7d-5ea2-4086-c03c-26c17ee4e1f1"
      },
      "outputs": [
        {
          "output_type": "stream",
          "name": "stdout",
          "text": [
            "The area of the circle is:  78.53981633974483\n"
          ]
        }
      ],
      "source": [
        "# Task 1: Re-calculate the area of the circle above with using the funciton pow().\n",
        "# Read the manual about how to call the function and write your code below and print the result.\n",
        "\n",
        "# write your code here:\n",
        "\n",
        "area2=pow(radius,2)*math.pi\n",
        "print(\"The area of the circle is: \", area2)\n",
        "\n"
      ]
    },
    {
      "cell_type": "markdown",
      "metadata": {
        "id": "ESvi5P4Zngp5"
      },
      "source": [
        "### Examples - control structures\n",
        "- Braching strucutre: if-else\n",
        "- Loop structure: for, while\n",
        "- Boolean values: True/False"
      ]
    },
    {
      "cell_type": "code",
      "execution_count": null,
      "metadata": {
        "colab": {
          "base_uri": "https://localhost:8080/"
        },
        "id": "qle0-v4Mngp5",
        "outputId": "cd3aef3b-de48-4c0d-9302-407c09700942"
      },
      "outputs": [
        {
          "output_type": "stream",
          "name": "stdout",
          "text": [
            "10\n",
            "It's an even number.\n"
          ]
        }
      ],
      "source": [
        "# Let's test if a given number is even or odd, we need to use the if-else structure\n",
        "\n",
        "# The built-in input() function can let you input a string.\n",
        "# Let's input an integer number and test if it's even or odd.\n",
        "\n",
        "x = input()\n",
        "\n",
        "# Now x is a string. We need to convert it to an integer.\n",
        "x = int(x)\n",
        "\n",
        "# Now can divid x by 2 to check its parity.\n",
        "if x%2 == 0:\n",
        "    print(\"It's an even number.\")\n",
        "else:\n",
        "    print(\"It's an odd number.\")\n"
      ]
    },
    {
      "cell_type": "code",
      "execution_count": null,
      "metadata": {
        "colab": {
          "base_uri": "https://localhost:8080/"
        },
        "id": "qhZGiVvJngp6",
        "outputId": "6ab395cd-ef1a-485e-f375-518b5aa9d00b"
      },
      "outputs": [
        {
          "output_type": "stream",
          "name": "stdout",
          "text": [
            "7\n",
            "It's a prime nubmer.\n"
          ]
        }
      ],
      "source": [
        "# Now we go further to check if the given number is a prime number of not.\n",
        "# To be a prime number, it cannot be divided by the number less than it. So, simply use the loop structure to test.\n",
        "\n",
        "\n",
        "x = input()\n",
        "\n",
        "# Now x is a string. We need to convert it to an integer.\n",
        "x = int(x)\n",
        "\n",
        "# Now we use a loop to try to divide the number by the numbers less than it.\n",
        "# 0 and 1 are not prime.\n",
        "if x < 2:\n",
        "    print(\"It's not a prime number.\")\n",
        "else:\n",
        "    # 2 is a prime number\n",
        "    if x == 2:\n",
        "        print(\"It's a prime nubmer.\")\n",
        "    else:\n",
        "\n",
        "        # Use a loop to test its factor\n",
        "        # We use the built-in function range(a, b) to generate all the integer numbers between a (included) and b (excluded)\n",
        "        is_prime = True\n",
        "        for i in range(2, x):\n",
        "            # To test if i is a factor for x\n",
        "            if x%i == 0:\n",
        "                is_prime = False\n",
        "                break\n",
        "        if is_prime:\n",
        "            print(\"It's a prime nubmer.\")\n",
        "        else:\n",
        "            print(\"It's not a prime number.\")\n"
      ]
    },
    {
      "cell_type": "markdown",
      "metadata": {
        "id": "ScW8Vhjnngp6"
      },
      "source": [
        "### Example - defining a function\n",
        "- How to define your own function\n",
        "\n",
        "Python is a dynamically typed language so we don't need to declare the type of a variable or declare the return type of a function (although Python 3 introduced optional [type hints](https://docs.python.org/3/library/typing.html)).  Apart from that the idea of writing a function in Python is the same as in Processing or (methods in) Java.\n",
        "\n",
        "Write a function that takes a single string argument and returns the number of words in the string using the code you wrote above to count words."
      ]
    },
    {
      "cell_type": "code",
      "execution_count": null,
      "metadata": {
        "colab": {
          "base_uri": "https://localhost:8080/"
        },
        "id": "drzhEC4Ungp7",
        "outputId": "fcbfaa13-c687-49fa-be5f-0abcc698d5b6"
      },
      "outputs": [
        {
          "output_type": "stream",
          "name": "stdout",
          "text": [
            "7\n",
            "It's a prime nubmer.\n"
          ]
        }
      ],
      "source": [
        "# Now, to make things easier for the number primality test, we can make a self-defined function.\n",
        "# We can just simply resue the code above\n",
        "\n",
        "def is_prime(x):\n",
        "    # Now we use a loop to try to divide the number by the numbers less than it.\n",
        "    # 0 and 1 are not prime.\n",
        "    if x < 2:\n",
        "        return False\n",
        "    else:\n",
        "        # 2 is a prime number\n",
        "        if x == 2:\n",
        "            return True\n",
        "        else:\n",
        "            # Use a loop to test its factor\n",
        "            # We use the built-in function range(a, b) to generate all the integer numbers between a (included) and b (excluded)\n",
        "            for i in range(2, x):\n",
        "                # To test if i is a factor for x\n",
        "                if x%i == 0:\n",
        "                    return False\n",
        "            return True\n",
        "\n",
        "# Now, let's try to call this function to test a number\n",
        "\n",
        "x = input()\n",
        "\n",
        "# Now x is a string. We need to convert it to an integer.\n",
        "x = int(x)\n",
        "\n",
        "# Now we can directly call the function we defined before.\n",
        "if is_prime(x):\n",
        "    print(\"It's a prime nubmer.\")\n",
        "else:\n",
        "    print(\"It's not a prime number.\")\n"
      ]
    },
    {
      "cell_type": "code",
      "execution_count": 15,
      "metadata": {
        "id": "DJ-wBbCxngp7",
        "colab": {
          "base_uri": "https://localhost:8080/"
        },
        "outputId": "d9c0984d-6b50-4376-8d7e-30a2006856bb"
      },
      "outputs": [
        {
          "name": "stdout",
          "output_type": "stream",
          "text": [
            "8\n"
          ]
        }
      ],
      "source": [
        "# Task 2: Now we want to have a smarter way to perform the primality test.\n",
        "# We can improve the testing process with less computation by an optimisation strategy.\n",
        "# Strategy: You just need to test the factors less than the sqared root of number, i.e., sqrt(x).\n",
        "# The reason is that one of the factors (if any) of the number x must not be greater than sqrt(x).\n",
        "# Your task is to define a new version of the primality testing function is_prime_faster(x).\n",
        "# write your code here:\n",
        "\n",
        "y=input()\n",
        "y=int()\n",
        "def is_prime_short(y):\n",
        "  if y<2:\n",
        "    return False\n",
        "  else:\n",
        "    if y==1:\n",
        "      return True\n",
        "    else :\n",
        "\n",
        "      max_factor= math.sqrt(y)+1\n",
        "      max_factor=int(max_factor)\n",
        "      for i in range (2,max_factor):\n",
        "        if y%i==0:\n",
        "          return False\n",
        "\n",
        "        else:\n",
        "          return True\n",
        "\n",
        "  if is_prime_short(y) :\n",
        "    print(\"is not a prime number\")\n",
        "\n",
        "  else:\n",
        "    print(\"is a prime number\")\n",
        "\n",
        "\n",
        "\n",
        "\n",
        "\n",
        "\n"
      ]
    },
    {
      "cell_type": "markdown",
      "metadata": {
        "id": "CSs0L_-wngp7"
      },
      "source": [
        "## String Manipulation\n",
        "\n",
        "The next cell defines three strings that you will use for the following group of questions. Note that the first uses single quotes, the second uses double quotes and the third uses three double quotes since it includes newline characters.  These are all valid ways of writing strings in Python and are equivalent."
      ]
    },
    {
      "cell_type": "markdown",
      "metadata": {
        "id": "c0u1QalQngp7"
      },
      "source": [
        "#### title = 'Data Science'\n",
        "\n",
        "code = \"COMP2200/COMP6200\"\n",
        "\n",
        "description = \"\"\"This unit introduces students to the fundamental techniques and\n",
        "tools of data science, such as the graphical display of data,\n",
        "predictive models, evaluation methodologies, regression,\n",
        "classification and clustering. The unit provides practical\n",
        "experience applying these methods using industry-standard\n",
        "software tools to real-world data sets. Students who have\n",
        "completed this unit will be able to identify which data\n",
        "science methods are most appropriate for a real-world data\n",
        "set, apply these methods to the data set, and interpret the\n",
        "results of the analysis they have performed. \"\"\""
      ]
    },
    {
      "cell_type": "markdown",
      "metadata": {
        "id": "qORGkwQIngp7"
      },
      "source": [
        "Task 3.\n",
        "\n",
        "Write code to print the length of these strings, i.e., how many words they contain."
      ]
    },
    {
      "cell_type": "code",
      "execution_count": 19,
      "metadata": {
        "scrolled": true,
        "id": "rn-sMj5gngp8",
        "colab": {
          "base_uri": "https://localhost:8080/"
        },
        "outputId": "973a872d-26f4-4e2f-e1ac-b8b4ca3894ad"
      },
      "outputs": [
        {
          "output_type": "stream",
          "name": "stdout",
          "text": [
            "12\n",
            "17\n",
            "578\n"
          ]
        }
      ],
      "source": [
        "#write your code here: print the lenght of these strings\n",
        "title=  'Data Science'\n",
        "code=\"COMP2200/COMP6200\"\n",
        "description = \"\"\"This unit introduces students to the fundamental techniques and tools of data science, such as the graphical display of data, predictive models, evaluation methodologies, regression, classification and clustering. The unit provides practical experience applying these methods using industry-standard software tools to real-world data sets. Students who have completed this unit will be able to identify which data science methods are most appropriate for a real-world data set, apply these methods to the data set, and interpret the results of the analysis they have performed. \"\"\"\n",
        "\n",
        "print(len(title))\n",
        "print(len(code))\n",
        "print(len(description))"
      ]
    },
    {
      "cell_type": "markdown",
      "metadata": {
        "id": "ZoAoXcjjngp8"
      },
      "source": [
        "Write code to create a new string in a variable 'summary' that contains the code, title and the first 20 characters of the description, with a ':' character between each one (ie 'COMP2200/COMP6200:Data Science:This unit...'"
      ]
    },
    {
      "cell_type": "code",
      "execution_count": 20,
      "metadata": {
        "id": "Be6KuJrTngp8",
        "colab": {
          "base_uri": "https://localhost:8080/"
        },
        "outputId": "066fd425-6722-4d72-f008-a3d197a463ed"
      },
      "outputs": [
        {
          "output_type": "stream",
          "name": "stdout",
          "text": [
            "51\n"
          ]
        }
      ],
      "source": [
        "# write your code here: create a new string summary and then print it\n",
        "summary=code+\":\"+title+\":\"+description[0:20]\n",
        "print(len(summary))\n"
      ]
    },
    {
      "cell_type": "markdown",
      "metadata": {
        "id": "bbuW0i7lngp8"
      },
      "source": [
        "Write code to find the number of words in the description.  Hint, this is easy in Python since strings support the [split method](https://docs.python.org/3.6/library/stdtypes.html#str.split) that returns a list of strings after splitting on whitespace (or another character if you wish).   Try split on the string, then find out how many strings are in the resulting list."
      ]
    },
    {
      "cell_type": "code",
      "execution_count": 22,
      "metadata": {
        "id": "IFCTNXsGngp8",
        "colab": {
          "base_uri": "https://localhost:8080/"
        },
        "outputId": "16c26e2e-fc5a-450f-f73d-b4cdfa859e36"
      },
      "outputs": [
        {
          "output_type": "stream",
          "name": "stdout",
          "text": [
            "84\n",
            "['This', 'unit', 'introduces', 'students', 'to', 'the', 'fundamental', 'techniques', 'and', 'tools', 'of', 'data', 'science,', 'such', 'as', 'the', 'graphical', 'display', 'of', 'data,', 'predictive', 'models,', 'evaluation', 'methodologies,', 'regression,', 'classification', 'and', 'clustering.', 'The', 'unit', 'provides', 'practical', 'experience', 'applying', 'these', 'methods', 'using', 'industry-standard', 'software', 'tools', 'to', 'real-world', 'data', 'sets.', 'Students', 'who', 'have', 'completed', 'this', 'unit', 'will', 'be', 'able', 'to', 'identify', 'which', 'data', 'science', 'methods', 'are', 'most', 'appropriate', 'for', 'a', 'real-world', 'data', 'set,', 'apply', 'these', 'methods', 'to', 'the', 'data', 'set,', 'and', 'interpret', 'the', 'results', 'of', 'the', 'analysis', 'they', 'have', 'performed.']\n"
          ]
        }
      ],
      "source": [
        "#write your code here\n",
        "\n",
        "print(len(description.split()))\n",
        "print((description.split()))\n",
        "\n",
        "\n",
        "\n",
        "\n"
      ]
    },
    {
      "cell_type": "markdown",
      "metadata": {
        "id": "10EQQpFjngp8"
      },
      "source": [
        "## Data generation and plotting\n",
        "\n",
        "Just to give you a taste of some of the capabilities of Jupyter notebooks and Python we will look at a very simple example of data handling and plotting.  First you need to import some libraries that will allow you to do this: `matplotlib` does the plotting. You also need to use the random module to generate random numbers.\n",
        "\n",
        "- How to use an array\n",
        "- the random module\n",
        "- Gaussian distribution\n",
        "- Pyhton plotting"
      ]
    },
    {
      "cell_type": "code",
      "execution_count": 23,
      "metadata": {
        "id": "dbip0I4Vngp8"
      },
      "outputs": [],
      "source": [
        "import random"
      ]
    },
    {
      "cell_type": "markdown",
      "metadata": {
        "id": "UVCtubrgngp8"
      },
      "source": [
        "The Gaussian or Normal disbribution is often used in data science for data distribution modelling and data analytics. The Python random module has the function gauss() that draws a random number from a Gaussian distribition. Two parameter $\\mu$ and $\\sigma$ should be given to determine a Gaussian distribution."
      ]
    },
    {
      "cell_type": "code",
      "execution_count": 24,
      "metadata": {
        "id": "Nwl5OwQAngp9",
        "outputId": "c338de90-905a-4c36-ef58-3dbc7b92f2df",
        "colab": {
          "base_uri": "https://localhost:8080/"
        }
      },
      "outputs": [
        {
          "output_type": "stream",
          "name": "stdout",
          "text": [
            "-3.066655283974269\n",
            "[1.3894713045942613, -5.982862374148237, -5.080524296564988, 0.5263598179089269, 5.4713607379424705, 10.692191761900357, 3.5978699618550456, -3.228134543223293, 1.5619668168078114, -2.2056070225619795, -9.831361108108446, 5.445496457573128, 2.2431786792492283, -0.42669952222343277, 2.063509743295567, -1.036670569055977, -0.015969154100407668, 3.6773343163787637, -9.403770017245403, 10.434304335183937, -8.05977546537835, 6.054755046158082, -0.19213401304198335, 0.5719647576789304, 6.744579910920447, -7.923352148796123, 2.4048021686022363, -9.193233896851483, -8.166457028694637, -2.325750752527142, -1.1582542818780341, 1.0430463786526099, 4.234095549154548, -3.284048324462993, 5.851812290518941, 2.6968030402647463, 1.4531651356607822, -12.731679800705502, 3.4645843813726596, -3.6991667274248714, 6.53481361263676, 1.8936997663068034, 2.913561907007761, -3.031720464128253, 2.5490465429135045, -0.021549275317392716, -0.7060045743179988, 3.8386640422467257, -3.556162772803375, 1.5603244293119363, -1.4321701570272958, -3.1365949020613733, 2.0851481826700726, 7.16457895238435, -2.800917903882169, 2.2020963382882814, 6.289474882419585, -0.19134426376860386, 0.6497571915905194, -4.089087823633975, 2.594366851543224, 5.76282535419041, -7.535559954235787, -0.4763817552129047, 13.441766919715437, -1.194177753472613, 5.17685339546499, -5.002188359745161, -10.170372242609812, -10.388773128990243, -0.23451398294726067, -3.7530326188290353, -10.336221496163372, -3.599771618512358, -2.5044082045240748, 8.209198099022888, 2.2869174029501957, 5.158212545734301, 3.080775876246765, -7.37487272625901, -9.448531444253124, 4.053715849094061, 3.9921778693767935, -3.598525618371497, 5.513003269790174, 0.9246154200273586, 0.05142344099387055, -5.852493082041245, 6.315988494958934, 4.37431896688235, 2.3262269355645584, 3.6532481282556417, -7.329934452516125, -7.534071058278588, -1.9672130231896332, 1.5655497696856187, 9.964443803811815, 1.0526755339395253, 2.45426099313251, 1.537695827001835]\n"
          ]
        }
      ],
      "source": [
        "# Random draw a number from a Gauassian distribution\n",
        "mu=0\n",
        "sigma=5\n",
        "x = random.gauss(mu, sigma)\n",
        "print(x)\n",
        "\n",
        "# Use a loop to draw a set of 100 such random numbers\n",
        "# x is an array for the generated numbers\n",
        "x=[]\n",
        "for i in range(100):\n",
        "    x.append(random.gauss(mu, sigma))\n",
        "\n",
        "print(x)"
      ]
    },
    {
      "cell_type": "markdown",
      "metadata": {
        "id": "C5xZHtzSngp9"
      },
      "source": [
        "In terms of the probability density function, we can calculate the probability density for the genrated random number. The probability density function is defined as $p(x)=\\frac{1}{\\sqrt{2\\pi\\sigma^2}}e^{-\\frac{(x-\\mu)^2}{2\\sigma^2}}$."
      ]
    },
    {
      "cell_type": "code",
      "execution_count": 25,
      "metadata": {
        "id": "K_IRnpwCngp9",
        "outputId": "adec0542-d1e1-4b84-f782-773753aa373f",
        "colab": {
          "base_uri": "https://localhost:8080/"
        }
      },
      "outputs": [
        {
          "output_type": "stream",
          "name": "stdout",
          "text": [
            "0.07978845608028654\n",
            "[0.07676633695907188, 0.03899704950630951, 0.04761483111644686, 0.07934756345384222, 0.043845104334478746, 0.00810855388684622, 0.06158913456779219, 0.06477772412535045, 0.0759886530075369, 0.07239120300719967, 0.011545151999888655, 0.044093403905168936, 0.07214960580108996, 0.07949843879733168, 0.07327484594188469, 0.07809180454751616, 0.07978804913804473, 0.06088111815070928, 0.013609403975828199, 0.009042038928481481, 0.02176230233652275, 0.038327883497736984, 0.07972956923987486, 0.07926811441217366, 0.032123622722582186, 0.022732341537950423, 0.07107369979455848, 0.01471795009421036, 0.021021767012612665, 0.07160726262164213, 0.0776761121923604, 0.07807109753535137, 0.05574721929367741, 0.06430769936687897, 0.04022564355669891, 0.06898740147337296, 0.07648885585427796, 0.003118853362925557, 0.0627596238657302, 0.06068533942667583, 0.03396406501287073, 0.07426626843948043, 0.06732973546545004, 0.0663903858040344, 0.07006518813615595, 0.07978771505439929, 0.07899700846072012, 0.05942244403789075, 0.06195776603909227, 0.0759964468218412, 0.0765815821683812, 0.0655369615364102, 0.07314340560555425, 0.02858136700102066, 0.06820214467875986, 0.0724136101832713, 0.03616996026538225, 0.07973005216603389, 0.07911758354345266, 0.057109247071221246, 0.06973930294438196, 0.04106580220822525, 0.025628001360563583, 0.07942713351550698, 0.0021506215101720983, 0.07754493875453108, 0.04668311853179493, 0.048372964145459156, 0.010080969134107956, 0.009215129929734257, 0.0797007421206992, 0.06020008453703474, 0.009418062019307059, 0.06157227691986731, 0.07038200532031408, 0.020729548885192062, 0.07186425621416692, 0.04686333968707588, 0.06599343275411582, 0.02688595089924329, 0.013381643828383345, 0.057439176597727196, 0.0580107971238193, 0.061583322843330415, 0.0434458238118072, 0.07843580816201848, 0.07978423638742708, 0.04021923355455297, 0.035928994651305154, 0.05441748430359956, 0.07160409021397204, 0.06109648864930258, 0.027243638703382585, 0.025639504308391375, 0.07384588539895298, 0.07597162472706175, 0.010952590755539804, 0.0780395943486158, 0.07073290577874154, 0.07610307445249648]\n"
          ]
        }
      ],
      "source": [
        "# We can implement the probabiity density function as follows:\n",
        "def pdf(mu, sigma, x):\n",
        "    return math.exp(-0.5*math.pow(x-mu, 2)/pow(sigma, 2))/math.sqrt(2*math.pi*pow(sigma, 2))\n",
        "\n",
        "\n",
        "# The probability density example\n",
        "mu=0\n",
        "sigma=5\n",
        "print(pdf(mu, sigma, 0))\n",
        "\n",
        "\n",
        "# Now we can calculate the probablity density for the random numbers generated above.\n",
        "# You need to ensure that the distribution is the same, i.e., the same mu and sigma.\n",
        "y=[]\n",
        "for i in x:\n",
        "    y.append(pdf(mu, sigma, i))\n",
        "\n",
        "print(y)"
      ]
    },
    {
      "cell_type": "markdown",
      "metadata": {
        "id": "CraYc_Rxngp9"
      },
      "source": [
        "Now we will create a simple plot."
      ]
    },
    {
      "cell_type": "code",
      "execution_count": 26,
      "metadata": {
        "id": "7pkq5Lfdngp9"
      },
      "outputs": [],
      "source": [
        "import matplotlib.pyplot as plt\n",
        "%matplotlib inline"
      ]
    },
    {
      "cell_type": "code",
      "execution_count": 27,
      "metadata": {
        "id": "UL2LkLKnngp9",
        "outputId": "d5960752-5f96-41ae-924e-fc04b34f02f1",
        "colab": {
          "base_uri": "https://localhost:8080/",
          "height": 472
        }
      },
      "outputs": [
        {
          "output_type": "display_data",
          "data": {
            "text/plain": [
              "<Figure size 640x480 with 1 Axes>"
            ],
            "image/png": "[encoded data removed]"
          },
          "metadata": {}
        }
      ],
      "source": [
        "fig, ax = plt.subplots()\n",
        "\n",
        "# Settings\n",
        "ax.set_xlabel('x')\n",
        "ax.set_ylabel('probability density')\n",
        "ax.set_title('Random Numbers from Gaussian Distribution')\n",
        "\n",
        "# Plot the random numbers (X-axis) and their probability density (Y-axis)\n",
        "ax.scatter(x, y)\n",
        "\n",
        "plt.show()"
      ]
    },
    {
      "cell_type": "code",
      "execution_count": 34,
      "metadata": {
        "id": "_GASTwZTngp9",
        "colab": {
          "base_uri": "https://localhost:8080/",
          "height": 561
        },
        "outputId": "58d0ffd0-90a0-47f5-d9c2-c9e84160795e"
      },
      "outputs": [
        {
          "output_type": "stream",
          "name": "stdout",
          "text": [
            "-1.0364433858989113\n",
            "[-10.49085943350972, 2.8187481986522043, -4.093298936880294, -8.964922731378392, -0.5866929853089932, 1.3044255910771427, -3.439370036839727, -6.38686213969197, 0.5276824093873146, 8.79871981572434, -4.161981694771156, 3.7001398507925525, -0.24552232850445735, -3.779455393268927, 1.6659992933503476, 6.520019197816589, 1.2256162000745532, -4.340077614968518, 0.43840587664100905, -9.809344497272972, -8.724318122330128, 4.581655023776486, -1.957024381391197, -4.07760539497434, -5.095754993055639, 6.763937706113602, 11.278590399793389, -7.8230817990096435, -1.1883137367079826, 2.7740610717046703, 2.2262601406137374, 2.38138883978086, 6.755426663011387, -0.2262520287664061, 1.002357322232031, 4.0070790613941245, 0.8187488053097824, -1.4323398046879814, 10.109666302819706, 0.8706824555704874, 4.304138580673407, 6.747942134923654, 7.572781977337847, -0.38912750841026333, 1.6010497630879894, -6.903192386361359, 6.529144097794461, -10.981451268563656, -2.8372717556209444, -0.2108864548860698, 1.057471276727324, 8.012441214015528, 0.36337654755929955, -7.534292873543052, 5.478156845351747, 1.7827944254308281, -3.6911183063067066, 6.033703651980406, -14.401134300132776, 7.664767027815777, 11.195609708760283, 2.3221370783668096, -2.5521936997160113, 9.442731340237051, 3.624102152148782, -8.91894583895246, -0.2663648167957186, -3.343769730175525, -5.153421582153243, 0.3094065974329611, 0.23076534213684885, -0.336482791443806, -0.6506581659598131, 5.245705428076247, -0.1983151819333357, 5.774811540245731, -0.7248977252223511, -0.9899255438226817, 2.2576247747818883, 2.8775941941642307, -3.511084729374276, 0.27927259514478325, -0.6587769820467553, 7.2703117828606025, 6.074959515058388, 6.71962055313505, 1.5165700418552341, 2.117753996504424, 1.5488572732785724, 10.016490409905439, -0.45559176606999263, 0.8414766333495921, -0.8336389987202052, -2.475685968157186, 5.023344034835489, 6.909043709422252, 0.19505778110087943, -2.941642025294919, -4.194565574321566, 6.494581844327055]\n",
            "0.06557328601698999\n",
            "[0.010624582965796556, 0.06350476768555587, 0.04637478895838258, 0.01674157228179859, 0.06420561606200081, 0.06640485190013297, 0.05056880916142534, 0.031162014961005794, 0.06628468592317005, 0.02856935463396934, 0.04592332597184931, 0.06008719681415642, 0.06507308897175497, 0.048414080711928535, 0.06608202607093279, 0.04354758868499213, 0.06644338920945822, 0.04474571847372407, 0.0661997633540627, 0.013121507982411131, 0.017880149384451226, 0.055639150549241664, 0.0588865626734747, 0.04647771173059522, 0.0396849000342229, 0.0419142987732321, 0.015328352415289532, 0.022552639359857782, 0.062211963350373815, 0.06364653455090204, 0.06511613453465018, 0.06475131510667559, 0.04197141200494389, 0.06511615252696802, 0.06649037493517063, 0.05864290868490655, 0.0664600489083719, 0.06124527868106377, 0.020998975763611566, 0.06647493852077811, 0.05713561592826798, 0.042021631256882935, 0.03648995284565494, 0.06473203637741752, 0.06615759939334667, 0.027925800985401903, 0.04348665112199422, 0.009054260391955626, 0.05419280691558541, 0.065150028998841, 0.0664873299390269, 0.03358503048016375, 0.06611715583476446, 0.024178693041409804, 0.0503264631019076, 0.0659269045987828, 0.04897990832453409, 0.04676514753326454, 0.002466211435663084, 0.0358780275007768, 0.015694352349820737, 0.06489553697184776, 0.055801802086512475, 0.024706374069475175, 0.060426008008353224, 0.016955498652445646, 0.06502578901654738, 0.051161999627394726, 0.03929746817077884, 0.06605141131475581, 0.06594617744080451, 0.0648611696493318, 0.06402122087633455, 0.051764053625003144, 0.06517744006125735, 0.04844392414971399, 0.06379877898940824, 0.06293232881913498, 0.06504571504502335, 0.06331320668484128, 0.05011999242210524, 0.06601240778524885, 0.06399733412973987, 0.03851279304638414, 0.04649505532721295, 0.04221161171087889, 0.06624441115851208, 0.06534656397807544, 0.06621276888807409, 0.02149737634489369, 0.06456227290786463, 0.06646717744270553, 0.06345681591336114, 0.05622008296193887, 0.053103014878694066, 0.04093976151092731, 0.06589471370230468, 0.05358514976143479, 0.04570859174540654, 0.04371738083107861]\n"
          ]
        },
        {
          "output_type": "display_data",
          "data": {
            "text/plain": [
              "<Figure size 640x480 with 1 Axes>"
            ],
            "image/png": "[encoded data removed]"
          },
          "metadata": {}
        }
      ],
      "source": [
        "# Task 4. In this task, please change the values mu and sigma to define another Gaussian distribution.\n",
        "# Then, generate 1000 random numbers, calculate their probaiblity density values, and plot as we did in the example above.\n",
        "\n",
        "# Your code here:\n",
        "# Random draw a number from a Gauassian distribution\n",
        "mu=0\n",
        "sigma=5\n",
        "x = random.gauss(mu, sigma)\n",
        "print(x)\n",
        "\n",
        "# Use a loop to draw a set of 100 such random numbers\n",
        "# x is an array for the generated numbers\n",
        "x=[]\n",
        "for i in range(100):\n",
        "    x.append(random.gauss(mu, sigma))\n",
        "\n",
        "print(x)\n",
        "def pdf(mu, sigma, x):\n",
        "    return math.exp(-0.5*math.pow(x-mu, 2)/pow(sigma, 2))/math.sqrt(2*math.pi*pow(sigma, 2))\n",
        "\n",
        "\n",
        "# The probability density example\n",
        "mu=1\n",
        "sigma=6\n",
        "print(pdf(mu, sigma, 0))\n",
        "\n",
        "\n",
        "# Now we can calculate the probablity density for the random numbers generated above.\n",
        "# You need to ensure that the distribution is the same, i.e., the same mu and sigma.\n",
        "y=[]\n",
        "for i in x:\n",
        "    y.append(pdf(mu, sigma, i))\n",
        "\n",
        "print(y)\n",
        "fig, ax = plt.subplots()\n",
        "\n",
        "# Settings\n",
        "ax.set_xlabel('x')\n",
        "ax.set_ylabel('probability density')\n",
        "ax.set_title('Random Numbers from Gaussian Distribution')\n",
        "\n",
        "# Plot the random numbers (X-axis) and their probability density (Y-axis)\n",
        "ax.scatter(x, y)\n",
        "\n",
        "plt.show()"
      ]
    },
    {
      "cell_type": "markdown",
      "metadata": {
        "id": "PINEa2Czngp9"
      },
      "source": [
        "## Checkpoint\n",
        "\n",
        "You got your copy of this notebook by forking and then cloning my Github repository.  Now that you have made some changes you should commit your work with a suitable commit message and push your changes back to your Github repository.  Show your tutor your updated Github repository to get your checkpoint mark."
      ]
    },
    {
      "cell_type": "code",
      "execution_count": null,
      "metadata": {
        "id": "B4bP0uBSngp-"
      },
      "outputs": [],
      "source": []
    }
  ],
  "metadata": {
    "kernelspec": {
      "display_name": "Python 3 (ipykernel)",
      "language": "python",
      "name": "python3"
    },
    "language_info": {
      "codemirror_mode": {
        "name": "ipython",
        "version": 3
      },
      "file_extension": ".py",
      "mimetype": "text/x-python",
      "name": "python",
      "nbconvert_exporter": "python",
      "pygments_lexer": "ipython3",
      "version": "3.12.4"
    },
    "colab": {
      "provenance": []
    }
  },
  "nbformat": 4,
  "nbformat_minor": 0
}